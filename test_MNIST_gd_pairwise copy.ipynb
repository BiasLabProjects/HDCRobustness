{
 "cells": [
  {
   "cell_type": "code",
   "execution_count": 1,
   "metadata": {},
   "outputs": [
    {
     "name": "stderr",
     "output_type": "stream",
     "text": [
      "/Users/sang-geon/Documents/UCI_BIASLab/HDC_Robustness/venv/lib/python3.8/site-packages/tqdm/auto.py:21: TqdmWarning: IProgress not found. Please update jupyter and ipywidgets. See https://ipywidgets.readthedocs.io/en/stable/user_install.html\n",
      "  from .autonotebook import tqdm as notebook_tqdm\n"
     ]
    }
   ],
   "source": [
    "import torch\n",
    "import numpy as np\n",
    "import matplotlib.pyplot as plt\n",
    "from torchvision import datasets, transforms\n",
    "import tqdm\n",
    "import pickle\n",
    "from sklearn.preprocessing import Normalizer\n",
    "\n",
    "import robustness_model"
   ]
  },
  {
   "cell_type": "code",
   "execution_count": 2,
   "metadata": {},
   "outputs": [
    {
     "name": "stdout",
     "output_type": "stream",
     "text": [
      "number of training data :  60000\n",
      "number of test data :  10000\n"
     ]
    }
   ],
   "source": [
    "train_data = datasets.MNIST(root = './datasets/',\n",
    "                            train=True,\n",
    "                            download=True,\n",
    "                            transform=transforms.ToTensor())\n",
    "test_data = datasets.MNIST(root = './datasets/',\n",
    "                            train=False,\n",
    "                            download=True,\n",
    "                            transform=transforms.ToTensor())\n",
    "print('number of training data : ', len(train_data))\n",
    "print('number of test data : ', len(test_data))"
   ]
  },
  {
   "cell_type": "code",
   "execution_count": 3,
   "metadata": {},
   "outputs": [
    {
     "data": {
      "text/plain": [
       "Dataset MNIST\n",
       "    Number of datapoints: 60000\n",
       "    Root location: ./datasets/\n",
       "    Split: Train\n",
       "    StandardTransform\n",
       "Transform: ToTensor()"
      ]
     },
     "execution_count": 3,
     "metadata": {},
     "output_type": "execute_result"
    }
   ],
   "source": [
    "train_data"
   ]
  },
  {
   "cell_type": "code",
   "execution_count": 4,
   "metadata": {},
   "outputs": [
    {
     "data": {
      "text/plain": [
       "(torch.Size([60000, 28, 28]), torch.Size([60000]))"
      ]
     },
     "execution_count": 4,
     "metadata": {},
     "output_type": "execute_result"
    }
   ],
   "source": [
    "train_data.data.shape, train_data.targets.shape"
   ]
  },
  {
   "cell_type": "code",
   "execution_count": 5,
   "metadata": {},
   "outputs": [],
   "source": [
    "X_train = train_data.data\n",
    "y_train = train_data.targets\n",
    "X_test = test_data.data\n",
    "y_test = test_data.targets"
   ]
  },
  {
   "cell_type": "code",
   "execution_count": 6,
   "metadata": {},
   "outputs": [],
   "source": [
    "scaler = Normalizer().fit(X_train.reshape(-1, 28*28))\n",
    "X_train = scaler.transform(X_train.reshape(-1, 28*28))\n",
    "X_test = scaler.transform(X_test.reshape(-1, 28*28))"
   ]
  },
  {
   "cell_type": "code",
   "execution_count": 7,
   "metadata": {},
   "outputs": [],
   "source": [
    "X_train = torch.from_numpy(X_train).float()\n",
    "X_test = torch.from_numpy(X_test).float()"
   ]
  },
  {
   "cell_type": "code",
   "execution_count": 8,
   "metadata": {},
   "outputs": [
    {
     "data": {
      "text/plain": [
       "(torch.Size([60000, 784]),\n",
       " torch.Size([60000]),\n",
       " torch.Size([10000, 784]),\n",
       " torch.Size([10000]))"
      ]
     },
     "execution_count": 8,
     "metadata": {},
     "output_type": "execute_result"
    }
   ],
   "source": [
    "X_train.shape, y_train.shape, X_test.shape, y_test.shape"
   ]
  },
  {
   "cell_type": "code",
   "execution_count": 9,
   "metadata": {},
   "outputs": [],
   "source": [
    "original_dim = 28*28\n",
    "dim = 10000"
   ]
  },
  {
   "cell_type": "code",
   "execution_count": 10,
   "metadata": {},
   "outputs": [
    {
     "name": "stderr",
     "output_type": "stream",
     "text": [
      "100%|██████████| 45/45 [04:15<00:00,  5.69s/it]\n"
     ]
    }
   ],
   "source": [
    "encoder = robustness_model.FHRREncoder(original_dim, dim)\n",
    "model = robustness_model.MultiClassificationModel(encoder, 10, in_dim=original_dim, dim=dim)\n",
    "model.bundling(X_train, y_train)"
   ]
  },
  {
   "cell_type": "code",
   "execution_count": 11,
   "metadata": {},
   "outputs": [],
   "source": [
    "def overall_robustness(model: robustness_model.MultiClassificationModel, c1, c2, X):\n",
    "    \n",
    "    ep1s = []\n",
    "    ep2s = []\n",
    "    ep3s = []\n",
    "\n",
    "    # L3 = model.get_lipschitz_constant()\n",
    "\n",
    "    max_X, method2_history = model.get_lipschitz_constant_gd(c1, c2)\n",
    "    L2 = method2_history[-1]\n",
    "    max_X, L, method3_history = model.get_conservative_lipschitz_constant_gd(c1, c2)\n",
    "    L3 = L\n",
    "\n",
    "    # plt.plot(method2_history)\n",
    "    # plt.ylabel('$|| \\\\nabla r(x) ||$')\n",
    "    # plt.xlabel('Iteration')\n",
    "    # plt.show()\n",
    "\n",
    "    # plt.plot(method3_history)\n",
    "    # plt.ylabel('$\\\\alpha$')\n",
    "    # plt.xlabel('Iteration')\n",
    "    # plt.show()\n",
    "    \n",
    "    for x in tqdm.tqdm(X):\n",
    "        \n",
    "        L1 = model.get_linear_approximation(c1, c2, x)\n",
    "        # L2 = model.get_conservative_lipschitz_constant(x)\n",
    "\n",
    "        ep1 = model.get_eps(c1, c2, x, L1)\n",
    "        ep2 = model.get_eps(c1, c2, x, L2)\n",
    "        ep3 = model.get_eps(c1, c2, x, L3)\n",
    "\n",
    "        ep1s.append(ep1)\n",
    "        ep2s.append(ep2)\n",
    "        ep3s.append(ep3)\n",
    "    \n",
    "    return torch.tensor(ep1s), torch.tensor(ep2s), torch.tensor(ep3s)"
   ]
  },
  {
   "cell_type": "code",
   "execution_count": 12,
   "metadata": {},
   "outputs": [
    {
     "name": "stderr",
     "output_type": "stream",
     "text": [
      "100%|██████████| 10000/10000 [01:08<00:00, 146.54it/s]\n",
      "100%|██████████| 10000/10000 [00:37<00:00, 265.52it/s]\n",
      "100%|██████████| 12665/12665 [01:29<00:00, 141.19it/s]\n"
     ]
    },
    {
     "name": "stdout",
     "output_type": "stream",
     "text": [
      "0 1 tensor(0.4850) tensor(0.5150) tensor(0.2460)\n"
     ]
    },
    {
     "name": "stderr",
     "output_type": "stream",
     "text": [
      "100%|██████████| 10000/10000 [01:08<00:00, 146.17it/s]\n",
      "100%|██████████| 10000/10000 [00:38<00:00, 258.61it/s]\n",
      "100%|██████████| 11881/11881 [01:25<00:00, 138.38it/s]\n"
     ]
    },
    {
     "name": "stdout",
     "output_type": "stream",
     "text": [
      "0 2 tensor(0.2912) tensor(0.3402) tensor(0.1654)\n"
     ]
    },
    {
     "name": "stderr",
     "output_type": "stream",
     "text": [
      "100%|██████████| 10000/10000 [01:09<00:00, 144.07it/s]\n",
      "100%|██████████| 10000/10000 [00:35<00:00, 278.60it/s]\n",
      "100%|██████████| 12054/12054 [01:22<00:00, 145.42it/s]\n"
     ]
    },
    {
     "name": "stdout",
     "output_type": "stream",
     "text": [
      "0 3 tensor(0.2894) tensor(0.3440) tensor(0.1661)\n"
     ]
    },
    {
     "name": "stderr",
     "output_type": "stream",
     "text": [
      "100%|██████████| 10000/10000 [01:07<00:00, 148.08it/s]\n",
      "100%|██████████| 10000/10000 [00:37<00:00, 264.46it/s]\n",
      "100%|██████████| 11765/11765 [01:29<00:00, 131.00it/s]\n"
     ]
    },
    {
     "name": "stdout",
     "output_type": "stream",
     "text": [
      "0 4 tensor(0.3319) tensor(0.3797) tensor(0.1842)\n"
     ]
    },
    {
     "name": "stderr",
     "output_type": "stream",
     "text": [
      "100%|██████████| 10000/10000 [01:10<00:00, 142.05it/s]\n",
      "100%|██████████| 10000/10000 [00:37<00:00, 264.41it/s]\n",
      "100%|██████████| 11344/11344 [01:23<00:00, 136.17it/s]\n"
     ]
    },
    {
     "name": "stdout",
     "output_type": "stream",
     "text": [
      "0 5 tensor(0.3910) tensor(0.4679) tensor(0.2196)\n"
     ]
    },
    {
     "name": "stderr",
     "output_type": "stream",
     "text": [
      "100%|██████████| 10000/10000 [01:06<00:00, 150.44it/s]\n",
      "100%|██████████| 10000/10000 [00:36<00:00, 272.38it/s]\n",
      "100%|██████████| 11841/11841 [01:20<00:00, 146.37it/s]\n"
     ]
    },
    {
     "name": "stdout",
     "output_type": "stream",
     "text": [
      "0 6 tensor(0.3033) tensor(0.3500) tensor(0.1719)\n"
     ]
    },
    {
     "name": "stderr",
     "output_type": "stream",
     "text": [
      "100%|██████████| 10000/10000 [01:06<00:00, 151.32it/s]\n",
      "100%|██████████| 10000/10000 [00:36<00:00, 274.03it/s]\n",
      "100%|██████████| 12188/12188 [01:23<00:00, 145.87it/s]\n"
     ]
    },
    {
     "name": "stdout",
     "output_type": "stream",
     "text": [
      "0 7 tensor(0.3495) tensor(0.3935) tensor(0.1938)\n"
     ]
    },
    {
     "name": "stderr",
     "output_type": "stream",
     "text": [
      "100%|██████████| 10000/10000 [01:06<00:00, 150.45it/s]\n",
      "100%|██████████| 10000/10000 [00:36<00:00, 273.47it/s]\n",
      "100%|██████████| 11774/11774 [01:20<00:00, 146.56it/s]\n"
     ]
    },
    {
     "name": "stdout",
     "output_type": "stream",
     "text": [
      "0 8 tensor(0.2899) tensor(0.3453) tensor(0.1690)\n"
     ]
    },
    {
     "name": "stderr",
     "output_type": "stream",
     "text": [
      "100%|██████████| 10000/10000 [01:05<00:00, 151.54it/s]\n",
      "100%|██████████| 10000/10000 [00:36<00:00, 273.97it/s]\n",
      "100%|██████████| 11872/11872 [01:20<00:00, 146.90it/s]\n"
     ]
    },
    {
     "name": "stdout",
     "output_type": "stream",
     "text": [
      "0 9 tensor(0.3357) tensor(0.3819) tensor(0.1877)\n"
     ]
    },
    {
     "name": "stderr",
     "output_type": "stream",
     "text": [
      "100%|██████████| 10000/10000 [01:06<00:00, 150.78it/s]\n",
      "100%|██████████| 10000/10000 [00:36<00:00, 272.60it/s]\n",
      "100%|██████████| 12700/12700 [01:26<00:00, 146.42it/s]\n"
     ]
    },
    {
     "name": "stdout",
     "output_type": "stream",
     "text": [
      "1 2 tensor(0.1277) tensor(0.1392) tensor(0.0682)\n"
     ]
    },
    {
     "name": "stderr",
     "output_type": "stream",
     "text": [
      "100%|██████████| 10000/10000 [01:05<00:00, 151.61it/s]\n",
      "100%|██████████| 10000/10000 [00:36<00:00, 274.60it/s]\n",
      "100%|██████████| 12873/12873 [01:28<00:00, 146.12it/s]\n"
     ]
    },
    {
     "name": "stdout",
     "output_type": "stream",
     "text": [
      "1 3 tensor(0.4191) tensor(0.4637) tensor(0.2205)\n"
     ]
    },
    {
     "name": "stderr",
     "output_type": "stream",
     "text": [
      "100%|██████████| 10000/10000 [01:06<00:00, 150.75it/s]\n",
      "100%|██████████| 10000/10000 [00:36<00:00, 270.42it/s]\n",
      "100%|██████████| 12584/12584 [01:27<00:00, 143.78it/s]\n"
     ]
    },
    {
     "name": "stdout",
     "output_type": "stream",
     "text": [
      "1 4 tensor(0.3546) tensor(0.3912) tensor(0.1889)\n"
     ]
    },
    {
     "name": "stderr",
     "output_type": "stream",
     "text": [
      "100%|██████████| 10000/10000 [01:07<00:00, 148.61it/s]\n",
      "100%|██████████| 10000/10000 [00:36<00:00, 271.65it/s]\n",
      "100%|██████████| 12163/12163 [01:27<00:00, 138.50it/s]\n"
     ]
    },
    {
     "name": "stdout",
     "output_type": "stream",
     "text": [
      "1 5 tensor(0.4624) tensor(0.4944) tensor(0.2342)\n"
     ]
    },
    {
     "name": "stderr",
     "output_type": "stream",
     "text": [
      "100%|██████████| 10000/10000 [01:07<00:00, 148.80it/s]\n",
      "100%|██████████| 10000/10000 [00:36<00:00, 271.54it/s]\n",
      "100%|██████████| 12660/12660 [01:27<00:00, 143.92it/s]\n"
     ]
    },
    {
     "name": "stdout",
     "output_type": "stream",
     "text": [
      "1 6 tensor(0.5916) tensor(0.6296) tensor(0.2928)\n"
     ]
    },
    {
     "name": "stderr",
     "output_type": "stream",
     "text": [
      "100%|██████████| 10000/10000 [01:07<00:00, 148.89it/s]\n",
      "100%|██████████| 10000/10000 [00:36<00:00, 271.84it/s]\n",
      "100%|██████████| 13007/13007 [01:31<00:00, 142.03it/s]\n"
     ]
    },
    {
     "name": "stdout",
     "output_type": "stream",
     "text": [
      "1 7 tensor(0.4197) tensor(0.4600) tensor(0.2198)\n"
     ]
    },
    {
     "name": "stderr",
     "output_type": "stream",
     "text": [
      "100%|██████████| 10000/10000 [01:07<00:00, 149.10it/s]\n",
      "100%|██████████| 10000/10000 [00:36<00:00, 271.43it/s]\n",
      "100%|██████████| 12593/12593 [01:27<00:00, 143.80it/s]\n"
     ]
    },
    {
     "name": "stdout",
     "output_type": "stream",
     "text": [
      "1 8 tensor(0.3738) tensor(0.4159) tensor(0.1996)\n"
     ]
    },
    {
     "name": "stderr",
     "output_type": "stream",
     "text": [
      "100%|██████████| 10000/10000 [01:07<00:00, 148.85it/s]\n",
      "100%|██████████| 10000/10000 [00:37<00:00, 268.78it/s]\n",
      "100%|██████████| 12691/12691 [01:28<00:00, 143.42it/s]\n"
     ]
    },
    {
     "name": "stdout",
     "output_type": "stream",
     "text": [
      "1 9 tensor(0.3777) tensor(0.4156) tensor(0.1998)\n"
     ]
    },
    {
     "name": "stderr",
     "output_type": "stream",
     "text": [
      "100%|██████████| 10000/10000 [01:07<00:00, 148.53it/s]\n",
      "100%|██████████| 10000/10000 [00:37<00:00, 269.24it/s]\n",
      "100%|██████████| 12089/12089 [01:24<00:00, 143.02it/s]\n"
     ]
    },
    {
     "name": "stdout",
     "output_type": "stream",
     "text": [
      "2 3 tensor(0.1442) tensor(0.1655) tensor(0.0802)\n"
     ]
    },
    {
     "name": "stderr",
     "output_type": "stream",
     "text": [
      "100%|██████████| 10000/10000 [01:07<00:00, 148.11it/s]\n",
      "100%|██████████| 10000/10000 [00:37<00:00, 268.70it/s]\n",
      "100%|██████████| 11800/11800 [01:22<00:00, 143.00it/s]\n"
     ]
    },
    {
     "name": "stdout",
     "output_type": "stream",
     "text": [
      "2 4 tensor(0.1100) tensor(0.1264) tensor(0.0601)\n"
     ]
    },
    {
     "name": "stderr",
     "output_type": "stream",
     "text": [
      "100%|██████████| 10000/10000 [01:07<00:00, 148.35it/s]\n",
      "100%|██████████| 10000/10000 [00:37<00:00, 270.02it/s]\n",
      "100%|██████████| 11379/11379 [01:19<00:00, 143.12it/s]\n"
     ]
    },
    {
     "name": "stdout",
     "output_type": "stream",
     "text": [
      "2 5 tensor(0.1426) tensor(0.1666) tensor(0.0789)\n"
     ]
    },
    {
     "name": "stderr",
     "output_type": "stream",
     "text": [
      "100%|██████████| 10000/10000 [01:07<00:00, 147.65it/s]\n",
      "100%|██████████| 10000/10000 [00:36<00:00, 271.71it/s]\n",
      "100%|██████████| 11876/11876 [01:22<00:00, 143.85it/s]\n"
     ]
    },
    {
     "name": "stdout",
     "output_type": "stream",
     "text": [
      "2 6 tensor(0.1307) tensor(0.1543) tensor(0.0743)\n"
     ]
    },
    {
     "name": "stderr",
     "output_type": "stream",
     "text": [
      "100%|██████████| 10000/10000 [01:07<00:00, 148.89it/s]\n",
      "100%|██████████| 10000/10000 [00:36<00:00, 271.92it/s]\n",
      "100%|██████████| 12223/12223 [01:25<00:00, 143.43it/s]\n"
     ]
    },
    {
     "name": "stdout",
     "output_type": "stream",
     "text": [
      "2 7 tensor(0.2113) tensor(0.2428) tensor(0.1183)\n"
     ]
    },
    {
     "name": "stderr",
     "output_type": "stream",
     "text": [
      "100%|██████████| 10000/10000 [01:07<00:00, 147.79it/s]\n",
      "100%|██████████| 10000/10000 [00:36<00:00, 271.04it/s]\n",
      "100%|██████████| 11809/11809 [01:22<00:00, 143.83it/s]\n"
     ]
    },
    {
     "name": "stdout",
     "output_type": "stream",
     "text": [
      "2 8 tensor(0.3563) tensor(0.4160) tensor(0.1998)\n"
     ]
    },
    {
     "name": "stderr",
     "output_type": "stream",
     "text": [
      "100%|██████████| 10000/10000 [01:07<00:00, 148.87it/s]\n",
      "100%|██████████| 10000/10000 [00:36<00:00, 271.13it/s]\n",
      "100%|██████████| 11907/11907 [01:23<00:00, 142.70it/s]\n"
     ]
    },
    {
     "name": "stdout",
     "output_type": "stream",
     "text": [
      "2 9 tensor(0.1276) tensor(0.1492) tensor(0.0739)\n"
     ]
    },
    {
     "name": "stderr",
     "output_type": "stream",
     "text": [
      "100%|██████████| 10000/10000 [01:07<00:00, 148.62it/s]\n",
      "100%|██████████| 10000/10000 [00:36<00:00, 270.45it/s]\n",
      "100%|██████████| 11973/11973 [01:23<00:00, 144.06it/s]\n"
     ]
    },
    {
     "name": "stdout",
     "output_type": "stream",
     "text": [
      "3 4 tensor(0.1853) tensor(0.2182) tensor(0.1059)\n"
     ]
    },
    {
     "name": "stderr",
     "output_type": "stream",
     "text": [
      "100%|██████████| 10000/10000 [01:07<00:00, 148.66it/s]\n",
      "100%|██████████| 10000/10000 [00:36<00:00, 270.55it/s]\n",
      "100%|██████████| 11552/11552 [01:21<00:00, 142.54it/s]\n"
     ]
    },
    {
     "name": "stdout",
     "output_type": "stream",
     "text": [
      "3 5 tensor(0.1296) tensor(0.1577) tensor(0.0759)\n"
     ]
    },
    {
     "name": "stderr",
     "output_type": "stream",
     "text": [
      "100%|██████████| 10000/10000 [01:07<00:00, 148.51it/s]\n",
      "100%|██████████| 10000/10000 [00:36<00:00, 271.36it/s]\n",
      "100%|██████████| 12049/12049 [01:23<00:00, 143.91it/s]\n"
     ]
    },
    {
     "name": "stdout",
     "output_type": "stream",
     "text": [
      "3 6 tensor(0.1937) tensor(0.2303) tensor(0.1128)\n"
     ]
    },
    {
     "name": "stderr",
     "output_type": "stream",
     "text": [
      "100%|██████████| 10000/10000 [01:07<00:00, 148.49it/s]\n",
      "100%|██████████| 10000/10000 [00:37<00:00, 269.24it/s]\n",
      "100%|██████████| 12396/12396 [01:26<00:00, 142.81it/s]\n"
     ]
    },
    {
     "name": "stdout",
     "output_type": "stream",
     "text": [
      "3 7 tensor(0.2580) tensor(0.2911) tensor(0.1439)\n"
     ]
    },
    {
     "name": "stderr",
     "output_type": "stream",
     "text": [
      "100%|██████████| 10000/10000 [01:07<00:00, 147.95it/s]\n",
      "100%|██████████| 10000/10000 [00:36<00:00, 271.79it/s]\n",
      "100%|██████████| 11982/11982 [01:23<00:00, 143.42it/s]\n"
     ]
    },
    {
     "name": "stdout",
     "output_type": "stream",
     "text": [
      "3 8 tensor(0.1760) tensor(0.2136) tensor(0.1057)\n"
     ]
    },
    {
     "name": "stderr",
     "output_type": "stream",
     "text": [
      "100%|██████████| 10000/10000 [01:07<00:00, 148.15it/s]\n",
      "100%|██████████| 10000/10000 [00:36<00:00, 270.85it/s]\n",
      "100%|██████████| 12080/12080 [01:24<00:00, 143.68it/s]\n"
     ]
    },
    {
     "name": "stdout",
     "output_type": "stream",
     "text": [
      "3 9 tensor(0.2076) tensor(0.2425) tensor(0.1197)\n"
     ]
    },
    {
     "name": "stderr",
     "output_type": "stream",
     "text": [
      "100%|██████████| 10000/10000 [01:07<00:00, 148.98it/s]\n",
      "100%|██████████| 10000/10000 [00:36<00:00, 270.55it/s]\n",
      "100%|██████████| 11263/11263 [01:18<00:00, 143.82it/s]\n"
     ]
    },
    {
     "name": "stdout",
     "output_type": "stream",
     "text": [
      "4 5 tensor(0.0787) tensor(0.0904) tensor(0.0445)\n"
     ]
    },
    {
     "name": "stderr",
     "output_type": "stream",
     "text": [
      "100%|██████████| 10000/10000 [01:07<00:00, 147.34it/s]\n",
      "100%|██████████| 10000/10000 [00:37<00:00, 270.24it/s]\n",
      "100%|██████████| 11760/11760 [01:21<00:00, 143.77it/s]\n"
     ]
    },
    {
     "name": "stdout",
     "output_type": "stream",
     "text": [
      "4 6 tensor(0.1133) tensor(0.1347) tensor(0.0662)\n"
     ]
    },
    {
     "name": "stderr",
     "output_type": "stream",
     "text": [
      "100%|██████████| 10000/10000 [01:07<00:00, 148.57it/s]\n",
      "100%|██████████| 10000/10000 [00:36<00:00, 271.33it/s]\n",
      "100%|██████████| 12107/12107 [01:24<00:00, 143.35it/s]\n"
     ]
    },
    {
     "name": "stdout",
     "output_type": "stream",
     "text": [
      "4 7 tensor(0.1167) tensor(0.1336) tensor(0.0662)\n"
     ]
    },
    {
     "name": "stderr",
     "output_type": "stream",
     "text": [
      "100%|██████████| 10000/10000 [01:07<00:00, 148.09it/s]\n",
      "100%|██████████| 10000/10000 [00:36<00:00, 271.31it/s]\n",
      "100%|██████████| 11693/11693 [01:21<00:00, 143.63it/s]\n"
     ]
    },
    {
     "name": "stdout",
     "output_type": "stream",
     "text": [
      "4 8 tensor(0.1388) tensor(0.1680) tensor(0.0827)\n"
     ]
    },
    {
     "name": "stderr",
     "output_type": "stream",
     "text": [
      "100%|██████████| 10000/10000 [01:07<00:00, 148.88it/s]\n",
      "100%|██████████| 10000/10000 [00:36<00:00, 271.32it/s]\n",
      "100%|██████████| 11791/11791 [01:22<00:00, 142.39it/s]\n"
     ]
    },
    {
     "name": "stdout",
     "output_type": "stream",
     "text": [
      "4 9 tensor(0.1419) tensor(0.1681) tensor(0.0802)\n"
     ]
    },
    {
     "name": "stderr",
     "output_type": "stream",
     "text": [
      "100%|██████████| 10000/10000 [01:07<00:00, 148.69it/s]\n",
      "100%|██████████| 10000/10000 [00:36<00:00, 271.16it/s]\n",
      "100%|██████████| 11339/11339 [01:18<00:00, 143.77it/s]\n"
     ]
    },
    {
     "name": "stdout",
     "output_type": "stream",
     "text": [
      "5 6 tensor(0.1707) tensor(0.2031) tensor(0.1003)\n"
     ]
    },
    {
     "name": "stderr",
     "output_type": "stream",
     "text": [
      "100%|██████████| 10000/10000 [01:07<00:00, 148.82it/s]\n",
      "100%|██████████| 10000/10000 [00:36<00:00, 271.18it/s]\n",
      "100%|██████████| 11686/11686 [01:22<00:00, 141.77it/s]\n"
     ]
    },
    {
     "name": "stdout",
     "output_type": "stream",
     "text": [
      "5 7 tensor(0.2782) tensor(0.3198) tensor(0.1545)\n"
     ]
    },
    {
     "name": "stderr",
     "output_type": "stream",
     "text": [
      "100%|██████████| 10000/10000 [01:07<00:00, 148.85it/s]\n",
      "100%|██████████| 10000/10000 [00:36<00:00, 270.56it/s]\n",
      "100%|██████████| 11272/11272 [01:18<00:00, 142.72it/s]\n"
     ]
    },
    {
     "name": "stdout",
     "output_type": "stream",
     "text": [
      "5 8 tensor(0.2089) tensor(0.2475) tensor(0.1224)\n"
     ]
    },
    {
     "name": "stderr",
     "output_type": "stream",
     "text": [
      "100%|██████████| 10000/10000 [01:07<00:00, 148.89it/s]\n",
      "100%|██████████| 10000/10000 [00:36<00:00, 271.19it/s]\n",
      "100%|██████████| 11370/11370 [01:19<00:00, 142.13it/s]\n"
     ]
    },
    {
     "name": "stdout",
     "output_type": "stream",
     "text": [
      "5 9 tensor(0.2263) tensor(0.2632) tensor(0.1295)\n"
     ]
    },
    {
     "name": "stderr",
     "output_type": "stream",
     "text": [
      "100%|██████████| 10000/10000 [01:05<00:00, 152.92it/s]\n",
      "100%|██████████| 10000/10000 [00:36<00:00, 275.34it/s]\n",
      "100%|██████████| 12183/12183 [01:23<00:00, 145.92it/s]\n"
     ]
    },
    {
     "name": "stdout",
     "output_type": "stream",
     "text": [
      "6 7 tensor(0.1079) tensor(0.1247) tensor(0.0611)\n"
     ]
    },
    {
     "name": "stderr",
     "output_type": "stream",
     "text": [
      "100%|██████████| 10000/10000 [01:05<00:00, 152.84it/s]\n",
      "100%|██████████| 10000/10000 [00:36<00:00, 274.61it/s]\n",
      "100%|██████████| 11769/11769 [01:21<00:00, 144.76it/s]\n"
     ]
    },
    {
     "name": "stdout",
     "output_type": "stream",
     "text": [
      "6 8 tensor(0.2444) tensor(0.2985) tensor(0.1432)\n"
     ]
    },
    {
     "name": "stderr",
     "output_type": "stream",
     "text": [
      "100%|██████████| 10000/10000 [01:05<00:00, 153.56it/s]\n",
      "100%|██████████| 10000/10000 [00:36<00:00, 275.07it/s]\n",
      "100%|██████████| 11867/11867 [01:21<00:00, 145.59it/s]\n"
     ]
    },
    {
     "name": "stdout",
     "output_type": "stream",
     "text": [
      "6 9 tensor(0.1602) tensor(0.1922) tensor(0.0944)\n"
     ]
    },
    {
     "name": "stderr",
     "output_type": "stream",
     "text": [
      "100%|██████████| 10000/10000 [01:05<00:00, 152.88it/s]\n",
      "100%|██████████| 10000/10000 [00:36<00:00, 275.41it/s]\n",
      "100%|██████████| 12116/12116 [01:23<00:00, 144.27it/s]\n"
     ]
    },
    {
     "name": "stdout",
     "output_type": "stream",
     "text": [
      "7 8 tensor(0.1948) tensor(0.2221) tensor(0.1074)\n"
     ]
    },
    {
     "name": "stderr",
     "output_type": "stream",
     "text": [
      "100%|██████████| 10000/10000 [01:05<00:00, 152.39it/s]\n",
      "100%|██████████| 10000/10000 [00:36<00:00, 273.26it/s]\n",
      "100%|██████████| 12214/12214 [01:24<00:00, 145.31it/s]\n"
     ]
    },
    {
     "name": "stdout",
     "output_type": "stream",
     "text": [
      "7 9 tensor(0.0960) tensor(0.1119) tensor(0.0532)\n"
     ]
    },
    {
     "name": "stderr",
     "output_type": "stream",
     "text": [
      "100%|██████████| 10000/10000 [01:05<00:00, 152.77it/s]\n",
      "100%|██████████| 10000/10000 [00:36<00:00, 273.55it/s]\n",
      "100%|██████████| 11800/11800 [01:21<00:00, 144.50it/s]"
     ]
    },
    {
     "name": "stdout",
     "output_type": "stream",
     "text": [
      "8 9 tensor(0.2025) tensor(0.2332) tensor(0.1148)\n"
     ]
    },
    {
     "name": "stderr",
     "output_type": "stream",
     "text": [
      "\n"
     ]
    }
   ],
   "source": [
    "all_train_robustness = []\n",
    "i = 0\n",
    "for c1 in range(10):\n",
    "    for c2 in range(c1 + 1, 10):\n",
    "        ep1s_train, ep2s_train, ep3s_train = overall_robustness(model, c1, c2, X_train[(y_train == c1) | (y_train == c2)])\n",
    "        print(c1, c2, ep1s_train.mean(), ep2s_train.mean(), ep3s_train.mean())\n",
    "        all_train_robustness.append((ep1s_train, ep2s_train, ep3s_train))\n",
    "        i += 1\n"
   ]
  },
  {
   "cell_type": "code",
   "execution_count": 13,
   "metadata": {},
   "outputs": [
    {
     "name": "stderr",
     "output_type": "stream",
     "text": [
      "100%|██████████| 10000/10000 [01:05<00:00, 152.30it/s]\n",
      "100%|██████████| 10000/10000 [00:36<00:00, 274.43it/s]\n",
      "100%|██████████| 2115/2115 [00:14<00:00, 145.61it/s]\n"
     ]
    },
    {
     "name": "stdout",
     "output_type": "stream",
     "text": [
      "0 1 tensor(0.4957) tensor(0.5247) tensor(0.2508)\n"
     ]
    },
    {
     "name": "stderr",
     "output_type": "stream",
     "text": [
      "100%|██████████| 10000/10000 [01:06<00:00, 151.22it/s]\n",
      "100%|██████████| 10000/10000 [00:36<00:00, 275.32it/s]\n",
      "100%|██████████| 2012/2012 [00:13<00:00, 145.08it/s]\n"
     ]
    },
    {
     "name": "stdout",
     "output_type": "stream",
     "text": [
      "0 2 tensor(0.2925) tensor(0.3417) tensor(0.1667)\n"
     ]
    },
    {
     "name": "stderr",
     "output_type": "stream",
     "text": [
      "100%|██████████| 10000/10000 [01:06<00:00, 150.63it/s]\n",
      "100%|██████████| 10000/10000 [00:36<00:00, 274.38it/s]\n",
      "100%|██████████| 1990/1990 [00:13<00:00, 145.03it/s]\n"
     ]
    },
    {
     "name": "stdout",
     "output_type": "stream",
     "text": [
      "0 3 tensor(0.2942) tensor(0.3503) tensor(0.1692)\n"
     ]
    },
    {
     "name": "stderr",
     "output_type": "stream",
     "text": [
      "100%|██████████| 10000/10000 [01:05<00:00, 152.90it/s]\n",
      "100%|██████████| 10000/10000 [00:36<00:00, 275.53it/s]\n",
      "100%|██████████| 1962/1962 [00:13<00:00, 145.87it/s]\n"
     ]
    },
    {
     "name": "stdout",
     "output_type": "stream",
     "text": [
      "0 4 tensor(0.3353) tensor(0.3839) tensor(0.1865)\n"
     ]
    },
    {
     "name": "stderr",
     "output_type": "stream",
     "text": [
      "100%|██████████| 10000/10000 [01:05<00:00, 152.94it/s]\n",
      "100%|██████████| 10000/10000 [00:36<00:00, 274.81it/s]\n",
      "100%|██████████| 1872/1872 [00:12<00:00, 144.18it/s]\n"
     ]
    },
    {
     "name": "stdout",
     "output_type": "stream",
     "text": [
      "0 5 tensor(0.3958) tensor(0.4702) tensor(0.2219)\n"
     ]
    },
    {
     "name": "stderr",
     "output_type": "stream",
     "text": [
      "100%|██████████| 10000/10000 [01:05<00:00, 151.81it/s]\n",
      "100%|██████████| 10000/10000 [00:37<00:00, 269.41it/s]\n",
      "100%|██████████| 1938/1938 [00:13<00:00, 145.49it/s]\n"
     ]
    },
    {
     "name": "stdout",
     "output_type": "stream",
     "text": [
      "0 6 tensor(0.2871) tensor(0.3355) tensor(0.1647)\n"
     ]
    },
    {
     "name": "stderr",
     "output_type": "stream",
     "text": [
      "100%|██████████| 10000/10000 [01:05<00:00, 152.42it/s]\n",
      "100%|██████████| 10000/10000 [00:36<00:00, 274.76it/s]\n",
      "100%|██████████| 2008/2008 [00:13<00:00, 145.96it/s]\n"
     ]
    },
    {
     "name": "stdout",
     "output_type": "stream",
     "text": [
      "0 7 tensor(0.3571) tensor(0.4032) tensor(0.1976)\n"
     ]
    },
    {
     "name": "stderr",
     "output_type": "stream",
     "text": [
      "100%|██████████| 10000/10000 [01:05<00:00, 152.46it/s]\n",
      "100%|██████████| 10000/10000 [00:36<00:00, 274.30it/s]\n",
      "100%|██████████| 1954/1954 [00:13<00:00, 145.48it/s]\n"
     ]
    },
    {
     "name": "stdout",
     "output_type": "stream",
     "text": [
      "0 8 tensor(0.2929) tensor(0.3502) tensor(0.1708)\n"
     ]
    },
    {
     "name": "stderr",
     "output_type": "stream",
     "text": [
      "100%|██████████| 10000/10000 [01:06<00:00, 151.18it/s]\n",
      "100%|██████████| 10000/10000 [00:36<00:00, 271.86it/s]\n",
      "100%|██████████| 1989/1989 [00:13<00:00, 145.95it/s]\n"
     ]
    },
    {
     "name": "stdout",
     "output_type": "stream",
     "text": [
      "0 9 tensor(0.3418) tensor(0.3906) tensor(0.1912)\n"
     ]
    },
    {
     "name": "stderr",
     "output_type": "stream",
     "text": [
      "100%|██████████| 10000/10000 [01:05<00:00, 152.96it/s]\n",
      "100%|██████████| 10000/10000 [00:36<00:00, 274.97it/s]\n",
      "100%|██████████| 2167/2167 [00:14<00:00, 144.74it/s]\n"
     ]
    },
    {
     "name": "stdout",
     "output_type": "stream",
     "text": [
      "1 2 tensor(0.1312) tensor(0.1439) tensor(0.0701)\n"
     ]
    },
    {
     "name": "stderr",
     "output_type": "stream",
     "text": [
      "100%|██████████| 10000/10000 [01:05<00:00, 152.68it/s]\n",
      "100%|██████████| 10000/10000 [00:36<00:00, 275.39it/s]\n",
      "100%|██████████| 2145/2145 [00:14<00:00, 146.07it/s]\n"
     ]
    },
    {
     "name": "stdout",
     "output_type": "stream",
     "text": [
      "1 3 tensor(0.4284) tensor(0.4712) tensor(0.2252)\n"
     ]
    },
    {
     "name": "stderr",
     "output_type": "stream",
     "text": [
      "100%|██████████| 10000/10000 [01:06<00:00, 151.05it/s]\n",
      "100%|██████████| 10000/10000 [00:36<00:00, 273.64it/s]\n",
      "100%|██████████| 2117/2117 [00:14<00:00, 146.13it/s]\n"
     ]
    },
    {
     "name": "stdout",
     "output_type": "stream",
     "text": [
      "1 4 tensor(0.3583) tensor(0.3937) tensor(0.1911)\n"
     ]
    },
    {
     "name": "stderr",
     "output_type": "stream",
     "text": [
      "100%|██████████| 10000/10000 [01:05<00:00, 153.24it/s]\n",
      "100%|██████████| 10000/10000 [00:36<00:00, 275.00it/s]\n",
      "100%|██████████| 2027/2027 [00:13<00:00, 146.23it/s]\n"
     ]
    },
    {
     "name": "stdout",
     "output_type": "stream",
     "text": [
      "1 5 tensor(0.4696) tensor(0.4976) tensor(0.2382)\n"
     ]
    },
    {
     "name": "stderr",
     "output_type": "stream",
     "text": [
      "100%|██████████| 10000/10000 [01:05<00:00, 152.81it/s]\n",
      "100%|██████████| 10000/10000 [00:36<00:00, 274.99it/s]\n",
      "100%|██████████| 2093/2093 [00:14<00:00, 145.85it/s]\n"
     ]
    },
    {
     "name": "stdout",
     "output_type": "stream",
     "text": [
      "1 6 tensor(0.5947) tensor(0.6283) tensor(0.2926)\n"
     ]
    },
    {
     "name": "stderr",
     "output_type": "stream",
     "text": [
      "100%|██████████| 10000/10000 [01:06<00:00, 150.97it/s]\n",
      "100%|██████████| 10000/10000 [00:36<00:00, 275.17it/s]\n",
      "100%|██████████| 2163/2163 [00:14<00:00, 145.26it/s]\n"
     ]
    },
    {
     "name": "stdout",
     "output_type": "stream",
     "text": [
      "1 7 tensor(0.4260) tensor(0.4669) tensor(0.2236)\n"
     ]
    },
    {
     "name": "stderr",
     "output_type": "stream",
     "text": [
      "100%|██████████| 10000/10000 [01:05<00:00, 152.62it/s]\n",
      "100%|██████████| 10000/10000 [00:36<00:00, 274.33it/s]\n",
      "100%|██████████| 2109/2109 [00:14<00:00, 145.97it/s]\n"
     ]
    },
    {
     "name": "stdout",
     "output_type": "stream",
     "text": [
      "1 8 tensor(0.3684) tensor(0.4073) tensor(0.1971)\n"
     ]
    },
    {
     "name": "stderr",
     "output_type": "stream",
     "text": [
      "100%|██████████| 10000/10000 [01:05<00:00, 152.44it/s]\n",
      "100%|██████████| 10000/10000 [00:36<00:00, 274.23it/s]\n",
      "100%|██████████| 2144/2144 [00:14<00:00, 144.98it/s]\n"
     ]
    },
    {
     "name": "stdout",
     "output_type": "stream",
     "text": [
      "1 9 tensor(0.3788) tensor(0.4195) tensor(0.2001)\n"
     ]
    },
    {
     "name": "stderr",
     "output_type": "stream",
     "text": [
      "100%|██████████| 10000/10000 [01:06<00:00, 150.93it/s]\n",
      "100%|██████████| 10000/10000 [00:36<00:00, 272.00it/s]\n",
      "100%|██████████| 2042/2042 [00:14<00:00, 144.69it/s]\n"
     ]
    },
    {
     "name": "stdout",
     "output_type": "stream",
     "text": [
      "2 3 tensor(0.1506) tensor(0.1736) tensor(0.0839)\n"
     ]
    },
    {
     "name": "stderr",
     "output_type": "stream",
     "text": [
      "100%|██████████| 10000/10000 [01:06<00:00, 151.28it/s]\n",
      "100%|██████████| 10000/10000 [00:36<00:00, 271.16it/s]\n",
      "100%|██████████| 2014/2014 [00:13<00:00, 144.55it/s]\n"
     ]
    },
    {
     "name": "stdout",
     "output_type": "stream",
     "text": [
      "2 4 tensor(0.1118) tensor(0.1280) tensor(0.0619)\n"
     ]
    },
    {
     "name": "stderr",
     "output_type": "stream",
     "text": [
      "100%|██████████| 10000/10000 [01:06<00:00, 150.60it/s]\n",
      "100%|██████████| 10000/10000 [00:36<00:00, 271.37it/s]\n",
      "100%|██████████| 1924/1924 [00:13<00:00, 142.51it/s]\n"
     ]
    },
    {
     "name": "stdout",
     "output_type": "stream",
     "text": [
      "2 5 tensor(0.1489) tensor(0.1727) tensor(0.0828)\n"
     ]
    },
    {
     "name": "stderr",
     "output_type": "stream",
     "text": [
      "100%|██████████| 10000/10000 [01:06<00:00, 150.05it/s]\n",
      "100%|██████████| 10000/10000 [00:36<00:00, 273.97it/s]\n",
      "100%|██████████| 1990/1990 [00:13<00:00, 146.16it/s]\n"
     ]
    },
    {
     "name": "stdout",
     "output_type": "stream",
     "text": [
      "2 6 tensor(0.1315) tensor(0.1552) tensor(0.0750)\n"
     ]
    },
    {
     "name": "stderr",
     "output_type": "stream",
     "text": [
      "100%|██████████| 10000/10000 [01:05<00:00, 152.93it/s]\n",
      "100%|██████████| 10000/10000 [00:36<00:00, 275.01it/s]\n",
      "100%|██████████| 2060/2060 [00:14<00:00, 146.16it/s]\n"
     ]
    },
    {
     "name": "stdout",
     "output_type": "stream",
     "text": [
      "2 7 tensor(0.2209) tensor(0.2544) tensor(0.1237)\n"
     ]
    },
    {
     "name": "stderr",
     "output_type": "stream",
     "text": [
      "100%|██████████| 10000/10000 [01:05<00:00, 152.99it/s]\n",
      "100%|██████████| 10000/10000 [00:36<00:00, 274.95it/s]\n",
      "100%|██████████| 2006/2006 [00:13<00:00, 146.22it/s]\n"
     ]
    },
    {
     "name": "stdout",
     "output_type": "stream",
     "text": [
      "2 8 tensor(0.3582) tensor(0.4166) tensor(0.2008)\n"
     ]
    },
    {
     "name": "stderr",
     "output_type": "stream",
     "text": [
      "100%|██████████| 10000/10000 [01:06<00:00, 151.04it/s]\n",
      "100%|██████████| 10000/10000 [00:36<00:00, 274.55it/s]\n",
      "100%|██████████| 2041/2041 [00:13<00:00, 146.43it/s]\n"
     ]
    },
    {
     "name": "stdout",
     "output_type": "stream",
     "text": [
      "2 9 tensor(0.1350) tensor(0.1599) tensor(0.0784)\n"
     ]
    },
    {
     "name": "stderr",
     "output_type": "stream",
     "text": [
      "100%|██████████| 10000/10000 [01:05<00:00, 152.85it/s]\n",
      "100%|██████████| 10000/10000 [00:36<00:00, 275.45it/s]\n",
      "100%|██████████| 1992/1992 [00:13<00:00, 146.57it/s]\n"
     ]
    },
    {
     "name": "stdout",
     "output_type": "stream",
     "text": [
      "3 4 tensor(0.1903) tensor(0.2255) tensor(0.1090)\n"
     ]
    },
    {
     "name": "stderr",
     "output_type": "stream",
     "text": [
      "100%|██████████| 10000/10000 [01:05<00:00, 152.62it/s]\n",
      "100%|██████████| 10000/10000 [00:36<00:00, 273.41it/s]\n",
      "100%|██████████| 1902/1902 [00:13<00:00, 141.85it/s]\n"
     ]
    },
    {
     "name": "stdout",
     "output_type": "stream",
     "text": [
      "3 5 tensor(0.1257) tensor(0.1535) tensor(0.0741)\n"
     ]
    },
    {
     "name": "stderr",
     "output_type": "stream",
     "text": [
      "100%|██████████| 10000/10000 [01:06<00:00, 150.07it/s]\n",
      "100%|██████████| 10000/10000 [00:36<00:00, 273.79it/s]\n",
      "100%|██████████| 1968/1968 [00:13<00:00, 144.97it/s]\n"
     ]
    },
    {
     "name": "stdout",
     "output_type": "stream",
     "text": [
      "3 6 tensor(0.1885) tensor(0.2252) tensor(0.1105)\n"
     ]
    },
    {
     "name": "stderr",
     "output_type": "stream",
     "text": [
      "100%|██████████| 10000/10000 [01:05<00:00, 152.24it/s]\n",
      "100%|██████████| 10000/10000 [00:36<00:00, 273.82it/s]\n",
      "100%|██████████| 2038/2038 [00:14<00:00, 145.38it/s]\n"
     ]
    },
    {
     "name": "stdout",
     "output_type": "stream",
     "text": [
      "3 7 tensor(0.2589) tensor(0.2955) tensor(0.1446)\n"
     ]
    },
    {
     "name": "stderr",
     "output_type": "stream",
     "text": [
      "100%|██████████| 10000/10000 [01:05<00:00, 152.49it/s]\n",
      "100%|██████████| 10000/10000 [00:36<00:00, 272.73it/s]\n",
      "100%|██████████| 1984/1984 [00:13<00:00, 145.54it/s]\n"
     ]
    },
    {
     "name": "stdout",
     "output_type": "stream",
     "text": [
      "3 8 tensor(0.1804) tensor(0.2186) tensor(0.1084)\n"
     ]
    },
    {
     "name": "stderr",
     "output_type": "stream",
     "text": [
      "100%|██████████| 10000/10000 [01:06<00:00, 150.28it/s]\n",
      "100%|██████████| 10000/10000 [00:36<00:00, 274.72it/s]\n",
      "100%|██████████| 2019/2019 [00:13<00:00, 146.83it/s]\n"
     ]
    },
    {
     "name": "stdout",
     "output_type": "stream",
     "text": [
      "3 9 tensor(0.2194) tensor(0.2559) tensor(0.1263)\n"
     ]
    },
    {
     "name": "stderr",
     "output_type": "stream",
     "text": [
      "100%|██████████| 10000/10000 [01:05<00:00, 153.01it/s]\n",
      "100%|██████████| 10000/10000 [00:36<00:00, 275.64it/s]\n",
      "100%|██████████| 1874/1874 [00:12<00:00, 146.34it/s]\n"
     ]
    },
    {
     "name": "stdout",
     "output_type": "stream",
     "text": [
      "4 5 tensor(0.0726) tensor(0.0836) tensor(0.0412)\n"
     ]
    },
    {
     "name": "stderr",
     "output_type": "stream",
     "text": [
      "100%|██████████| 10000/10000 [01:05<00:00, 153.27it/s]\n",
      "100%|██████████| 10000/10000 [00:36<00:00, 275.22it/s]\n",
      "100%|██████████| 1940/1940 [00:13<00:00, 145.55it/s]\n"
     ]
    },
    {
     "name": "stdout",
     "output_type": "stream",
     "text": [
      "4 6 tensor(0.1128) tensor(0.1355) tensor(0.0662)\n"
     ]
    },
    {
     "name": "stderr",
     "output_type": "stream",
     "text": [
      "100%|██████████| 10000/10000 [01:05<00:00, 151.53it/s]\n",
      "100%|██████████| 10000/10000 [00:36<00:00, 274.93it/s]\n",
      "100%|██████████| 2010/2010 [00:13<00:00, 146.49it/s]\n"
     ]
    },
    {
     "name": "stdout",
     "output_type": "stream",
     "text": [
      "4 7 tensor(0.1138) tensor(0.1306) tensor(0.0649)\n"
     ]
    },
    {
     "name": "stderr",
     "output_type": "stream",
     "text": [
      "100%|██████████| 10000/10000 [01:05<00:00, 153.34it/s]\n",
      "100%|██████████| 10000/10000 [00:36<00:00, 274.90it/s]\n",
      "100%|██████████| 1956/1956 [00:13<00:00, 146.49it/s]\n"
     ]
    },
    {
     "name": "stdout",
     "output_type": "stream",
     "text": [
      "4 8 tensor(0.1420) tensor(0.1730) tensor(0.0849)\n"
     ]
    },
    {
     "name": "stderr",
     "output_type": "stream",
     "text": [
      "100%|██████████| 10000/10000 [01:05<00:00, 153.02it/s]\n",
      "100%|██████████| 10000/10000 [00:36<00:00, 275.23it/s]\n",
      "100%|██████████| 1991/1991 [00:13<00:00, 143.63it/s]\n"
     ]
    },
    {
     "name": "stdout",
     "output_type": "stream",
     "text": [
      "4 9 tensor(0.1426) tensor(0.1683) tensor(0.0807)\n"
     ]
    },
    {
     "name": "stderr",
     "output_type": "stream",
     "text": [
      "100%|██████████| 10000/10000 [01:06<00:00, 151.26it/s]\n",
      "100%|██████████| 10000/10000 [00:36<00:00, 274.52it/s]\n",
      "100%|██████████| 1850/1850 [00:12<00:00, 146.09it/s]\n"
     ]
    },
    {
     "name": "stdout",
     "output_type": "stream",
     "text": [
      "5 6 tensor(0.1660) tensor(0.2004) tensor(0.0980)\n"
     ]
    },
    {
     "name": "stderr",
     "output_type": "stream",
     "text": [
      "100%|██████████| 10000/10000 [01:05<00:00, 152.77it/s]\n",
      "100%|██████████| 10000/10000 [00:36<00:00, 274.26it/s]\n",
      "100%|██████████| 1920/1920 [00:13<00:00, 145.68it/s]\n"
     ]
    },
    {
     "name": "stdout",
     "output_type": "stream",
     "text": [
      "5 7 tensor(0.2805) tensor(0.3183) tensor(0.1560)\n"
     ]
    },
    {
     "name": "stderr",
     "output_type": "stream",
     "text": [
      "100%|██████████| 10000/10000 [01:05<00:00, 152.68it/s]\n",
      "100%|██████████| 10000/10000 [00:36<00:00, 273.19it/s]\n",
      "100%|██████████| 1866/1866 [00:12<00:00, 144.18it/s]\n"
     ]
    },
    {
     "name": "stdout",
     "output_type": "stream",
     "text": [
      "5 8 tensor(0.2180) tensor(0.2572) tensor(0.1277)\n"
     ]
    },
    {
     "name": "stderr",
     "output_type": "stream",
     "text": [
      "100%|██████████| 10000/10000 [01:05<00:00, 151.54it/s]\n",
      "100%|██████████| 10000/10000 [00:36<00:00, 274.30it/s]\n",
      "100%|██████████| 1901/1901 [00:13<00:00, 146.08it/s]\n"
     ]
    },
    {
     "name": "stdout",
     "output_type": "stream",
     "text": [
      "5 9 tensor(0.2375) tensor(0.2742) tensor(0.1357)\n"
     ]
    },
    {
     "name": "stderr",
     "output_type": "stream",
     "text": [
      "100%|██████████| 10000/10000 [01:05<00:00, 152.79it/s]\n",
      "100%|██████████| 10000/10000 [00:36<00:00, 275.18it/s]\n",
      "100%|██████████| 1986/1986 [00:13<00:00, 146.79it/s]\n"
     ]
    },
    {
     "name": "stdout",
     "output_type": "stream",
     "text": [
      "6 7 tensor(0.1024) tensor(0.1193) tensor(0.0583)\n"
     ]
    },
    {
     "name": "stderr",
     "output_type": "stream",
     "text": [
      "100%|██████████| 10000/10000 [01:05<00:00, 153.64it/s]\n",
      "100%|██████████| 10000/10000 [00:36<00:00, 270.59it/s]\n",
      "100%|██████████| 1932/1932 [00:13<00:00, 142.45it/s]\n"
     ]
    },
    {
     "name": "stdout",
     "output_type": "stream",
     "text": [
      "6 8 tensor(0.2426) tensor(0.2961) tensor(0.1424)\n"
     ]
    },
    {
     "name": "stderr",
     "output_type": "stream",
     "text": [
      "100%|██████████| 10000/10000 [01:05<00:00, 153.15it/s]\n",
      "100%|██████████| 10000/10000 [00:36<00:00, 275.04it/s]\n",
      "100%|██████████| 1967/1967 [00:13<00:00, 146.65it/s]\n"
     ]
    },
    {
     "name": "stdout",
     "output_type": "stream",
     "text": [
      "6 9 tensor(0.1602) tensor(0.1935) tensor(0.0948)\n"
     ]
    },
    {
     "name": "stderr",
     "output_type": "stream",
     "text": [
      "100%|██████████| 10000/10000 [01:05<00:00, 153.33it/s]\n",
      "100%|██████████| 10000/10000 [00:36<00:00, 275.78it/s]\n",
      "100%|██████████| 2002/2002 [00:13<00:00, 145.75it/s]\n"
     ]
    },
    {
     "name": "stdout",
     "output_type": "stream",
     "text": [
      "7 8 tensor(0.1906) tensor(0.2176) tensor(0.1051)\n"
     ]
    },
    {
     "name": "stderr",
     "output_type": "stream",
     "text": [
      "100%|██████████| 10000/10000 [01:05<00:00, 153.14it/s]\n",
      "100%|██████████| 10000/10000 [00:37<00:00, 270.07it/s]\n",
      "100%|██████████| 2037/2037 [00:13<00:00, 145.94it/s]\n"
     ]
    },
    {
     "name": "stdout",
     "output_type": "stream",
     "text": [
      "7 9 tensor(0.0940) tensor(0.1092) tensor(0.0521)\n"
     ]
    },
    {
     "name": "stderr",
     "output_type": "stream",
     "text": [
      "100%|██████████| 10000/10000 [01:05<00:00, 152.89it/s]\n",
      "100%|██████████| 10000/10000 [00:36<00:00, 274.84it/s]\n",
      "100%|██████████| 1983/1983 [00:13<00:00, 146.11it/s]"
     ]
    },
    {
     "name": "stdout",
     "output_type": "stream",
     "text": [
      "8 9 tensor(0.2136) tensor(0.2490) tensor(0.1216)\n"
     ]
    },
    {
     "name": "stderr",
     "output_type": "stream",
     "text": [
      "\n"
     ]
    }
   ],
   "source": [
    "all_test_robustness = []\n",
    "i = 0\n",
    "for c1 in range(10):\n",
    "    for c2 in range(c1 + 1, 10):\n",
    "        ep1s_test, ep2s_test, ep3s_test = overall_robustness(model, c1, c2, X_test[(y_test == c1) | (y_test == c2)])\n",
    "        print(c1, c2, ep1s_test.mean(), ep2s_test.mean(), ep3s_test.mean())\n",
    "        all_test_robustness.append((ep1s_test, ep2s_test, ep3s_test))\n",
    "        i += 1\n"
   ]
  },
  {
   "cell_type": "code",
   "execution_count": 14,
   "metadata": {},
   "outputs": [],
   "source": [
    "with open('./all_train_robustness_.pickle', 'bw') as f:\n",
    "    pickle.dump(all_train_robustness, f)\n",
    "with open('./all_test_robustness_.pickle', 'bw') as f:\n",
    "    pickle.dump(all_test_robustness, f)"
   ]
  },
  {
   "cell_type": "code",
   "execution_count": 15,
   "metadata": {},
   "outputs": [],
   "source": [
    "with open('./MNIST_multimodel_.pickle', 'bw') as f:\n",
    "    pickle.dump(model, f)"
   ]
  },
  {
   "cell_type": "code",
   "execution_count": 16,
   "metadata": {},
   "outputs": [],
   "source": [
    "# fig, axes = plt.subplots(1, 3, dpi=300, figsize=(20, 5))\n",
    "# axes[0].set_title('MNIST train set Method 1')\n",
    "# axes[0].hist(ep1s_train, bins=30)\n",
    "# axes[1].set_title('MNIST train set Method 2')\n",
    "# axes[1].hist(ep2s_train, bins=30)\n",
    "# axes[2].set_title('MNIST train set Method 3')\n",
    "# axes[2].hist(ep3s_train, bins=30)\n",
    "# fig.show()"
   ]
  },
  {
   "cell_type": "code",
   "execution_count": 17,
   "metadata": {},
   "outputs": [],
   "source": [
    "# fig, axes = plt.subplots(1, 3, dpi=300, figsize=(20, 5))\n",
    "# axes[0].set_title('MNIST test set Method 1')\n",
    "# axes[0].hist(ep1s_test, bins=30)\n",
    "# axes[1].set_title('MNIST test set Method 2')\n",
    "# axes[1].hist(ep2s_test, bins=30)\n",
    "# axes[2].set_title('MNIST test set Method 3')\n",
    "# axes[2].hist(ep3s_test, bins=30)\n",
    "# fig.show()"
   ]
  },
  {
   "cell_type": "code",
   "execution_count": 18,
   "metadata": {},
   "outputs": [],
   "source": [
    "ep1_train = min([ep1s_train.mean() for ep1s_train, _, _ in all_train_robustness])\n",
    "ep2_train = min([ep2s_train.mean() for _, ep2s_train, _ in all_train_robustness])\n",
    "ep3_train = min([ep3s_train.mean() for _, _, ep3s_train in all_train_robustness])\n",
    "\n",
    "ep1_test = min([ep1s_test.mean() for ep1s_test, _, _ in all_test_robustness])\n",
    "ep2_test = min([ep2s_test.mean() for _, ep2s_test, _ in all_test_robustness])\n",
    "ep3_test = min([ep3s_test.mean() for _, _, ep3s_test in all_test_robustness])"
   ]
  },
  {
   "cell_type": "code",
   "execution_count": 30,
   "metadata": {},
   "outputs": [
    {
     "data": {
      "text/plain": [
       "(tensor(0.0787), tensor(0.0904), tensor(0.0445))"
      ]
     },
     "execution_count": 30,
     "metadata": {},
     "output_type": "execute_result"
    }
   ],
   "source": [
    "ep1_train, ep2_train, ep3_train"
   ]
  },
  {
   "cell_type": "code",
   "execution_count": 31,
   "metadata": {},
   "outputs": [
    {
     "data": {
      "text/plain": [
       "(tensor(0.0726), tensor(0.0836), tensor(0.0412))"
      ]
     },
     "execution_count": 31,
     "metadata": {},
     "output_type": "execute_result"
    }
   ],
   "source": [
    "ep1_test, ep2_test, ep3_test"
   ]
  },
  {
   "cell_type": "code",
   "execution_count": 19,
   "metadata": {},
   "outputs": [
    {
     "name": "stdout",
     "output_type": "stream",
     "text": [
      "tensor(0.) tensor(0.6250) tensor(0.6400)\n",
      "tensor(0.0101) tensor(0.6252) tensor(0.6399)\n",
      "tensor(0.0202) tensor(0.6256) tensor(0.6400)\n",
      "tensor(0.0303) tensor(0.6266) tensor(0.6412)\n",
      "tensor(0.0404) tensor(0.6259) tensor(0.6404)\n",
      "tensor(0.0505) tensor(0.6264) tensor(0.6407)\n",
      "tensor(0.0606) tensor(0.6237) tensor(0.6382)\n",
      "tensor(0.0707) tensor(0.6250) tensor(0.6405)\n",
      "tensor(0.0808) tensor(0.6226) tensor(0.6366)\n",
      "tensor(0.0909) tensor(0.6265) tensor(0.6408)\n",
      "tensor(0.1010) tensor(0.6269) tensor(0.6416)\n",
      "tensor(0.1111) tensor(0.6234) tensor(0.6378)\n",
      "tensor(0.1212) tensor(0.6224) tensor(0.6361)\n",
      "tensor(0.1313) tensor(0.6230) tensor(0.6359)\n",
      "tensor(0.1414) tensor(0.6283) tensor(0.6423)\n",
      "tensor(0.1515) tensor(0.6273) tensor(0.6424)\n",
      "tensor(0.1616) tensor(0.6303) tensor(0.6449)\n",
      "tensor(0.1717) tensor(0.6319) tensor(0.6464)\n",
      "tensor(0.1818) tensor(0.6194) tensor(0.6328)\n",
      "tensor(0.1919) tensor(0.6226) tensor(0.6372)\n",
      "tensor(0.2020) tensor(0.6195) tensor(0.6333)\n",
      "tensor(0.2121) tensor(0.6256) tensor(0.6396)\n",
      "tensor(0.2222) tensor(0.6344) tensor(0.6470)\n",
      "tensor(0.2323) tensor(0.6293) tensor(0.6432)\n",
      "tensor(0.2424) tensor(0.6347) tensor(0.6500)\n",
      "tensor(0.2525) tensor(0.6301) tensor(0.6456)\n",
      "tensor(0.2626) tensor(0.6273) tensor(0.6431)\n",
      "tensor(0.2727) tensor(0.6140) tensor(0.6261)\n",
      "tensor(0.2828) tensor(0.6234) tensor(0.6388)\n",
      "tensor(0.2929) tensor(0.6359) tensor(0.6499)\n",
      "tensor(0.3030) tensor(0.6201) tensor(0.6329)\n",
      "tensor(0.3131) tensor(0.6542) tensor(0.6682)\n",
      "tensor(0.3232) tensor(0.6332) tensor(0.6464)\n",
      "tensor(0.3333) tensor(0.6215) tensor(0.6345)\n",
      "tensor(0.3434) tensor(0.6216) tensor(0.6345)\n",
      "tensor(0.3535) tensor(0.6431) tensor(0.6545)\n",
      "tensor(0.3636) tensor(0.6292) tensor(0.6436)\n",
      "tensor(0.3737) tensor(0.6159) tensor(0.6298)\n",
      "tensor(0.3838) tensor(0.6277) tensor(0.6409)\n",
      "tensor(0.3939) tensor(0.6381) tensor(0.6521)\n",
      "tensor(0.4040) tensor(0.6195) tensor(0.6325)\n",
      "tensor(0.4141) tensor(0.6559) tensor(0.6689)\n",
      "tensor(0.4242) tensor(0.6400) tensor(0.6537)\n",
      "tensor(0.4343) tensor(0.6276) tensor(0.6414)\n",
      "tensor(0.4444) tensor(0.6519) tensor(0.6639)\n",
      "tensor(0.4545) tensor(0.6289) tensor(0.6416)\n",
      "tensor(0.4646) tensor(0.6339) tensor(0.6480)\n",
      "tensor(0.4747) tensor(0.6485) tensor(0.6613)\n",
      "tensor(0.4848) tensor(0.6085) tensor(0.6216)\n",
      "tensor(0.4949) tensor(0.5811) tensor(0.5935)\n",
      "tensor(0.5051) tensor(0.6137) tensor(0.6263)\n",
      "tensor(0.5152) tensor(0.6223) tensor(0.6358)\n",
      "tensor(0.5253) tensor(0.6295) tensor(0.6446)\n",
      "tensor(0.5354) tensor(0.6215) tensor(0.6346)\n",
      "tensor(0.5455) tensor(0.6352) tensor(0.6505)\n",
      "tensor(0.5556) tensor(0.6418) tensor(0.6575)\n",
      "tensor(0.5657) tensor(0.6380) tensor(0.6514)\n",
      "tensor(0.5758) tensor(0.6461) tensor(0.6583)\n",
      "tensor(0.5859) tensor(0.6467) tensor(0.6563)\n",
      "tensor(0.5960) tensor(0.6485) tensor(0.6595)\n",
      "tensor(0.6061) tensor(0.6134) tensor(0.6275)\n",
      "tensor(0.6162) tensor(0.6262) tensor(0.6400)\n",
      "tensor(0.6263) tensor(0.6562) tensor(0.6689)\n",
      "tensor(0.6364) tensor(0.6152) tensor(0.6302)\n",
      "tensor(0.6465) tensor(0.5907) tensor(0.6044)\n",
      "tensor(0.6566) tensor(0.6492) tensor(0.6624)\n",
      "tensor(0.6667) tensor(0.5876) tensor(0.5971)\n",
      "tensor(0.6768) tensor(0.5933) tensor(0.6040)\n",
      "tensor(0.6869) tensor(0.5859) tensor(0.5971)\n",
      "tensor(0.6970) tensor(0.5921) tensor(0.6045)\n",
      "tensor(0.7071) tensor(0.6283) tensor(0.6401)\n",
      "tensor(0.7172) tensor(0.6321) tensor(0.6440)\n",
      "tensor(0.7273) tensor(0.6086) tensor(0.6220)\n",
      "tensor(0.7374) tensor(0.6344) tensor(0.6477)\n",
      "tensor(0.7475) tensor(0.6129) tensor(0.6278)\n",
      "tensor(0.7576) tensor(0.6273) tensor(0.6399)\n",
      "tensor(0.7677) tensor(0.5956) tensor(0.6078)\n",
      "tensor(0.7778) tensor(0.6476) tensor(0.6573)\n",
      "tensor(0.7879) tensor(0.6427) tensor(0.6590)\n",
      "tensor(0.7980) tensor(0.6241) tensor(0.6385)\n",
      "tensor(0.8081) tensor(0.6246) tensor(0.6397)\n",
      "tensor(0.8182) tensor(0.6356) tensor(0.6479)\n",
      "tensor(0.8283) tensor(0.5955) tensor(0.6095)\n",
      "tensor(0.8384) tensor(0.5725) tensor(0.5817)\n",
      "tensor(0.8485) tensor(0.6149) tensor(0.6276)\n",
      "tensor(0.8586) tensor(0.6184) tensor(0.6311)\n",
      "tensor(0.8687) tensor(0.6396) tensor(0.6532)\n",
      "tensor(0.8788) tensor(0.5762) tensor(0.5922)\n",
      "tensor(0.8889) tensor(0.6233) tensor(0.6349)\n",
      "tensor(0.8990) tensor(0.5479) tensor(0.5588)\n",
      "tensor(0.9091) tensor(0.6155) tensor(0.6280)\n",
      "tensor(0.9192) tensor(0.6104) tensor(0.6232)\n",
      "tensor(0.9293) tensor(0.6377) tensor(0.6477)\n",
      "tensor(0.9394) tensor(0.6012) tensor(0.6120)\n",
      "tensor(0.9495) tensor(0.6333) tensor(0.6428)\n",
      "tensor(0.9596) tensor(0.6127) tensor(0.6232)\n",
      "tensor(0.9697) tensor(0.5940) tensor(0.6036)\n",
      "tensor(0.9798) tensor(0.6026) tensor(0.6146)\n",
      "tensor(0.9899) tensor(0.6317) tensor(0.6460)\n",
      "tensor(1.) tensor(0.6392) tensor(0.6496)\n"
     ]
    }
   ],
   "source": [
    "train_accuracies = []\n",
    "test_accuracies = []\n",
    "noises = np.linspace(0, 1, 100)\n",
    "for noise in noises:\n",
    "    nvec = torch.empty_like(X_train[0]).normal_(0, 1)\n",
    "    nvec *= noise / nvec.norm()\n",
    "\n",
    "    preds = model.predict(X_train + nvec)\n",
    "    train_acc = (preds == y_train).sum() / len(y_train)\n",
    "\n",
    "    preds = model.predict(X_test + nvec)\n",
    "    test_acc = (preds == y_test).sum() / len(y_test)\n",
    "\n",
    "    print(nvec.norm(), train_acc, test_acc)\n",
    "\n",
    "    train_accuracies.append(train_acc)\n",
    "    test_accuracies.append(test_acc)"
   ]
  },
  {
   "cell_type": "code",
   "execution_count": 29,
   "metadata": {},
   "outputs": [
    {
     "data": {
      "image/png": "[encoded data removed]",
      "text/plain": [
       "<Figure size 1000x500 with 1 Axes>"
      ]
     },
     "metadata": {},
     "output_type": "display_data"
    }
   ],
   "source": [
    "plt.figure(figsize=(10, 5), dpi=100)\n",
    "plt.plot(noises, train_accuracies)\n",
    "plt.plot([ep1_train, ep1_train], [0, 1], label='Method 1')\n",
    "plt.plot([ep2_train, ep2_train], [0, 1], label='Method 2')\n",
    "plt.plot([ep3_train, ep3_train], [0, 1], label='Method 3')\n",
    "plt.legend()\n",
    "plt.ylim([0.55, 0.65])\n",
    "plt.title('MNIST Train set')\n",
    "plt.xlabel('noise')\n",
    "plt.ylabel('Accuracy')\n",
    "plt.show()"
   ]
  },
  {
   "cell_type": "code",
   "execution_count": 28,
   "metadata": {},
   "outputs": [
    {
     "data": {
      "image/png": "[encoded data removed]",
      "text/plain": [
       "<Figure size 1000x500 with 1 Axes>"
      ]
     },
     "metadata": {},
     "output_type": "display_data"
    }
   ],
   "source": [
    "plt.figure(figsize=(10, 5), dpi=100)\n",
    "plt.plot(noises, test_accuracies)\n",
    "plt.plot([ep1_test, ep1_test], [0, 1], label='Method 1')\n",
    "plt.plot([ep2_test, ep2_test], [0, 1], label='Method 2')\n",
    "plt.plot([ep3_test, ep3_test], [0, 1], label='Method 3')\n",
    "plt.legend()\n",
    "plt.ylim([0.55, 0.68])\n",
    "plt.title('MNIST Test set')\n",
    "plt.xlabel('noise')\n",
    "plt.ylabel('Accuracy')\n",
    "plt.show()"
   ]
  },
  {
   "cell_type": "code",
   "execution_count": null,
   "metadata": {},
   "outputs": [],
   "source": []
  }
 ],
 "metadata": {
  "kernelspec": {
   "display_name": "venv",
   "language": "python",
   "name": "python3"
  },
  "language_info": {
   "codemirror_mode": {
    "name": "ipython",
    "version": 3
   },
   "file_extension": ".py",
   "mimetype": "text/x-python",
   "name": "python",
   "nbconvert_exporter": "python",
   "pygments_lexer": "ipython3",
   "version": "3.8.10"
  },
  "orig_nbformat": 4,
  "vscode": {
   "interpreter": {
    "hash": "708b40775871a2caaf789c130c889506ee08aa7735457c8315125c2a48e055db"
   }
  }
 },
 "nbformat": 4,
 "nbformat_minor": 2
}
