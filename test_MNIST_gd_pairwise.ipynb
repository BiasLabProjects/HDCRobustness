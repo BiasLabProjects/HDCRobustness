{
 "cells": [
  {
   "cell_type": "code",
   "execution_count": 1,
   "metadata": {},
   "outputs": [
    {
     "name": "stderr",
     "output_type": "stream",
     "text": [
      "/Users/sang-geon/Documents/UCI_BIASLab/HDC_Robustness/venv/lib/python3.8/site-packages/tqdm/auto.py:21: TqdmWarning: IProgress not found. Please update jupyter and ipywidgets. See https://ipywidgets.readthedocs.io/en/stable/user_install.html\n",
      "  from .autonotebook import tqdm as notebook_tqdm\n"
     ]
    }
   ],
   "source": [
    "import torch\n",
    "import numpy as np\n",
    "import matplotlib.pyplot as plt\n",
    "from torchvision import datasets, transforms\n",
    "import tqdm\n",
    "import pickle\n",
    "\n",
    "import robustness_model"
   ]
  },
  {
   "cell_type": "code",
   "execution_count": 2,
   "metadata": {},
   "outputs": [
    {
     "name": "stdout",
     "output_type": "stream",
     "text": [
      "number of training data :  60000\n",
      "number of test data :  10000\n"
     ]
    }
   ],
   "source": [
    "train_data = datasets.MNIST(root = './datasets/',\n",
    "                            train=True,\n",
    "                            download=True,\n",
    "                            transform=transforms.ToTensor())\n",
    "test_data = datasets.MNIST(root = './datasets/',\n",
    "                            train=False,\n",
    "                            download=True,\n",
    "                            transform=transforms.ToTensor())\n",
    "print('number of training data : ', len(train_data))\n",
    "print('number of test data : ', len(test_data))"
   ]
  },
  {
   "cell_type": "code",
   "execution_count": 3,
   "metadata": {},
   "outputs": [
    {
     "data": {
      "text/plain": [
       "Dataset MNIST\n",
       "    Number of datapoints: 60000\n",
       "    Root location: ./datasets/\n",
       "    Split: Train\n",
       "    StandardTransform\n",
       "Transform: ToTensor()"
      ]
     },
     "execution_count": 3,
     "metadata": {},
     "output_type": "execute_result"
    }
   ],
   "source": [
    "train_data"
   ]
  },
  {
   "cell_type": "code",
   "execution_count": 4,
   "metadata": {},
   "outputs": [
    {
     "data": {
      "text/plain": [
       "(torch.Size([60000, 28, 28]), torch.Size([60000]))"
      ]
     },
     "execution_count": 4,
     "metadata": {},
     "output_type": "execute_result"
    }
   ],
   "source": [
    "train_data.data.shape, train_data.targets.shape"
   ]
  },
  {
   "cell_type": "code",
   "execution_count": 5,
   "metadata": {},
   "outputs": [],
   "source": [
    "X_train = train_data.data\n",
    "y_train = train_data.targets\n",
    "X_test = test_data.data\n",
    "y_test = test_data.targets"
   ]
  },
  {
   "cell_type": "code",
   "execution_count": 6,
   "metadata": {},
   "outputs": [],
   "source": [
    "X_train = X_train.reshape(-1, 28*28) / 255\n",
    "X_test = X_test.reshape(-1, 28*28) / 255"
   ]
  },
  {
   "cell_type": "code",
   "execution_count": 7,
   "metadata": {},
   "outputs": [
    {
     "data": {
      "text/plain": [
       "(torch.Size([60000, 784]),\n",
       " torch.Size([60000]),\n",
       " torch.Size([10000, 784]),\n",
       " torch.Size([10000]))"
      ]
     },
     "execution_count": 7,
     "metadata": {},
     "output_type": "execute_result"
    }
   ],
   "source": [
    "X_train.shape, y_train.shape, X_test.shape, y_test.shape"
   ]
  },
  {
   "cell_type": "code",
   "execution_count": 8,
   "metadata": {},
   "outputs": [],
   "source": [
    "original_dim = 28*28\n",
    "dim = 10000"
   ]
  },
  {
   "cell_type": "code",
   "execution_count": 9,
   "metadata": {},
   "outputs": [
    {
     "name": "stderr",
     "output_type": "stream",
     "text": [
      "100%|██████████| 45/45 [04:20<00:00,  5.79s/it]\n"
     ]
    }
   ],
   "source": [
    "encoder = robustness_model.FHRREncoder(original_dim, dim)\n",
    "model = robustness_model.MultiClassificationModel(encoder, 10, in_dim=original_dim, dim=dim)\n",
    "model.bundling(X_train, y_train)"
   ]
  },
  {
   "cell_type": "code",
   "execution_count": 10,
   "metadata": {},
   "outputs": [],
   "source": [
    "def overall_robustness(model: robustness_model.MultiClassificationModel, c1, c2, X):\n",
    "    \n",
    "    ep1s = []\n",
    "    ep2s = []\n",
    "    ep3s = []\n",
    "\n",
    "    # L3 = model.get_lipschitz_constant()\n",
    "\n",
    "    max_X, method2_history = model.get_lipschitz_constant_gd(c1, c2)\n",
    "    L2 = method2_history[-1]\n",
    "    max_X, L, method3_history = model.get_conservative_lipschitz_constant_gd(c1, c2)\n",
    "    L3 = L\n",
    "\n",
    "    # plt.plot(method2_history)\n",
    "    # plt.ylabel('$|| \\\\nabla r(x) ||$')\n",
    "    # plt.xlabel('Iteration')\n",
    "    # plt.show()\n",
    "\n",
    "    # plt.plot(method3_history)\n",
    "    # plt.ylabel('$\\\\alpha$')\n",
    "    # plt.xlabel('Iteration')\n",
    "    # plt.show()\n",
    "    \n",
    "    for x in tqdm.tqdm(X):\n",
    "        \n",
    "        L1 = model.get_linear_approximation(c1, c2, x)\n",
    "        # L2 = model.get_conservative_lipschitz_constant(x)\n",
    "\n",
    "        ep1 = model.get_eps(c1, c2, x, L1)\n",
    "        ep2 = model.get_eps(c1, c2, x, L2)\n",
    "        ep3 = model.get_eps(c1, c2, x, L3)\n",
    "\n",
    "        ep1s.append(ep1)\n",
    "        ep2s.append(ep2)\n",
    "        ep3s.append(ep3)\n",
    "    \n",
    "    return torch.tensor(ep1s), torch.tensor(ep2s), torch.tensor(ep3s)"
   ]
  },
  {
   "cell_type": "code",
   "execution_count": 11,
   "metadata": {},
   "outputs": [
    {
     "name": "stderr",
     "output_type": "stream",
     "text": [
      "100%|██████████| 10000/10000 [01:14<00:00, 134.11it/s]\n",
      "100%|██████████| 10000/10000 [00:41<00:00, 242.49it/s]\n",
      "100%|██████████| 12665/12665 [01:38<00:00, 128.05it/s]\n"
     ]
    },
    {
     "name": "stdout",
     "output_type": "stream",
     "text": [
      "0 1 tensor(0.1052) tensor(0.0415) tensor(0.0171)\n"
     ]
    },
    {
     "name": "stderr",
     "output_type": "stream",
     "text": [
      "100%|██████████| 10000/10000 [01:15<00:00, 132.31it/s]\n",
      "100%|██████████| 10000/10000 [00:42<00:00, 233.42it/s]\n",
      "100%|██████████| 11881/11881 [01:32<00:00, 128.98it/s]\n"
     ]
    },
    {
     "name": "stdout",
     "output_type": "stream",
     "text": [
      "0 2 tensor(0.0495) tensor(0.0189) tensor(0.0077)\n"
     ]
    },
    {
     "name": "stderr",
     "output_type": "stream",
     "text": [
      "100%|██████████| 10000/10000 [01:11<00:00, 140.05it/s]\n",
      "100%|██████████| 10000/10000 [00:40<00:00, 248.15it/s]\n",
      "100%|██████████| 12054/12054 [01:31<00:00, 132.08it/s]\n"
     ]
    },
    {
     "name": "stdout",
     "output_type": "stream",
     "text": [
      "0 3 tensor(0.0498) tensor(0.0190) tensor(0.0077)\n"
     ]
    },
    {
     "name": "stderr",
     "output_type": "stream",
     "text": [
      "100%|██████████| 10000/10000 [01:12<00:00, 138.74it/s]\n",
      "100%|██████████| 10000/10000 [00:39<00:00, 256.33it/s]\n",
      "100%|██████████| 11765/11765 [01:27<00:00, 135.21it/s]\n"
     ]
    },
    {
     "name": "stdout",
     "output_type": "stream",
     "text": [
      "0 4 tensor(0.0498) tensor(0.0187) tensor(0.0077)\n"
     ]
    },
    {
     "name": "stderr",
     "output_type": "stream",
     "text": [
      "100%|██████████| 10000/10000 [01:11<00:00, 139.64it/s]\n",
      "100%|██████████| 10000/10000 [00:40<00:00, 247.77it/s]\n",
      "100%|██████████| 11344/11344 [01:24<00:00, 133.63it/s]\n"
     ]
    },
    {
     "name": "stdout",
     "output_type": "stream",
     "text": [
      "0 5 tensor(0.0508) tensor(0.0193) tensor(0.0079)\n"
     ]
    },
    {
     "name": "stderr",
     "output_type": "stream",
     "text": [
      "100%|██████████| 10000/10000 [01:08<00:00, 145.89it/s]\n",
      "100%|██████████| 10000/10000 [00:38<00:00, 261.96it/s]\n",
      "100%|██████████| 11841/11841 [01:23<00:00, 141.50it/s]\n"
     ]
    },
    {
     "name": "stdout",
     "output_type": "stream",
     "text": [
      "0 6 tensor(0.0499) tensor(0.0190) tensor(0.0078)\n"
     ]
    },
    {
     "name": "stderr",
     "output_type": "stream",
     "text": [
      "100%|██████████| 10000/10000 [01:06<00:00, 149.29it/s]\n",
      "100%|██████████| 10000/10000 [00:37<00:00, 268.01it/s]\n",
      "100%|██████████| 12188/12188 [01:25<00:00, 142.31it/s]\n"
     ]
    },
    {
     "name": "stdout",
     "output_type": "stream",
     "text": [
      "0 7 tensor(0.0494) tensor(0.0189) tensor(0.0077)\n"
     ]
    },
    {
     "name": "stderr",
     "output_type": "stream",
     "text": [
      "100%|██████████| 10000/10000 [01:06<00:00, 149.52it/s]\n",
      "100%|██████████| 10000/10000 [00:37<00:00, 269.42it/s]\n",
      "100%|██████████| 11774/11774 [01:23<00:00, 141.82it/s]\n"
     ]
    },
    {
     "name": "stdout",
     "output_type": "stream",
     "text": [
      "0 8 tensor(0.0498) tensor(0.0188) tensor(0.0077)\n"
     ]
    },
    {
     "name": "stderr",
     "output_type": "stream",
     "text": [
      "100%|██████████| 10000/10000 [01:06<00:00, 150.36it/s]\n",
      "100%|██████████| 10000/10000 [00:37<00:00, 267.85it/s]\n",
      "100%|██████████| 11872/11872 [01:23<00:00, 141.57it/s]\n"
     ]
    },
    {
     "name": "stdout",
     "output_type": "stream",
     "text": [
      "0 9 tensor(0.0498) tensor(0.0191) tensor(0.0077)\n"
     ]
    },
    {
     "name": "stderr",
     "output_type": "stream",
     "text": [
      "100%|██████████| 10000/10000 [01:06<00:00, 149.42it/s]\n",
      "100%|██████████| 10000/10000 [00:37<00:00, 266.41it/s]\n",
      "100%|██████████| 12700/12700 [01:29<00:00, 142.48it/s]\n"
     ]
    },
    {
     "name": "stdout",
     "output_type": "stream",
     "text": [
      "1 2 tensor(0.0284) tensor(0.0108) tensor(0.0044)\n"
     ]
    },
    {
     "name": "stderr",
     "output_type": "stream",
     "text": [
      "100%|██████████| 10000/10000 [01:06<00:00, 149.84it/s]\n",
      "100%|██████████| 10000/10000 [00:37<00:00, 267.47it/s]\n",
      "100%|██████████| 12873/12873 [01:30<00:00, 142.01it/s]\n"
     ]
    },
    {
     "name": "stdout",
     "output_type": "stream",
     "text": [
      "1 3 tensor(0.1015) tensor(0.0406) tensor(0.0165)\n"
     ]
    },
    {
     "name": "stderr",
     "output_type": "stream",
     "text": [
      "100%|██████████| 10000/10000 [01:07<00:00, 148.42it/s]\n",
      "100%|██████████| 10000/10000 [00:37<00:00, 268.08it/s]\n",
      "100%|██████████| 12584/12584 [01:28<00:00, 142.30it/s]\n"
     ]
    },
    {
     "name": "stdout",
     "output_type": "stream",
     "text": [
      "1 4 tensor(0.1034) tensor(0.0412) tensor(0.0168)\n"
     ]
    },
    {
     "name": "stderr",
     "output_type": "stream",
     "text": [
      "100%|██████████| 10000/10000 [01:06<00:00, 149.48it/s]\n",
      "100%|██████████| 10000/10000 [00:37<00:00, 268.09it/s]\n",
      "100%|██████████| 12163/12163 [01:25<00:00, 142.50it/s]\n"
     ]
    },
    {
     "name": "stdout",
     "output_type": "stream",
     "text": [
      "1 5 tensor(0.1058) tensor(0.0422) tensor(0.0172)\n"
     ]
    },
    {
     "name": "stderr",
     "output_type": "stream",
     "text": [
      "100%|██████████| 10000/10000 [01:06<00:00, 150.39it/s]\n",
      "100%|██████████| 10000/10000 [00:37<00:00, 268.48it/s]\n",
      "100%|██████████| 12660/12660 [01:28<00:00, 143.34it/s]\n"
     ]
    },
    {
     "name": "stdout",
     "output_type": "stream",
     "text": [
      "1 6 tensor(0.1032) tensor(0.0411) tensor(0.0168)\n"
     ]
    },
    {
     "name": "stderr",
     "output_type": "stream",
     "text": [
      "100%|██████████| 10000/10000 [01:07<00:00, 149.06it/s]\n",
      "100%|██████████| 10000/10000 [00:37<00:00, 269.74it/s]\n",
      "100%|██████████| 13007/13007 [01:32<00:00, 141.30it/s]\n"
     ]
    },
    {
     "name": "stdout",
     "output_type": "stream",
     "text": [
      "1 7 tensor(0.1010) tensor(0.0403) tensor(0.0164)\n"
     ]
    },
    {
     "name": "stderr",
     "output_type": "stream",
     "text": [
      "100%|██████████| 10000/10000 [01:06<00:00, 149.40it/s]\n",
      "100%|██████████| 10000/10000 [00:37<00:00, 269.36it/s]\n",
      "100%|██████████| 12593/12593 [01:28<00:00, 142.48it/s]\n"
     ]
    },
    {
     "name": "stdout",
     "output_type": "stream",
     "text": [
      "1 8 tensor(0.1031) tensor(0.0406) tensor(0.0168)\n"
     ]
    },
    {
     "name": "stderr",
     "output_type": "stream",
     "text": [
      "100%|██████████| 10000/10000 [01:06<00:00, 150.11it/s]\n",
      "100%|██████████| 10000/10000 [00:37<00:00, 267.45it/s]\n",
      "100%|██████████| 12691/12691 [01:28<00:00, 143.21it/s]\n"
     ]
    },
    {
     "name": "stdout",
     "output_type": "stream",
     "text": [
      "1 9 tensor(0.1027) tensor(0.0411) tensor(0.0167)\n"
     ]
    },
    {
     "name": "stderr",
     "output_type": "stream",
     "text": [
      "100%|██████████| 10000/10000 [01:06<00:00, 149.99it/s]\n",
      "100%|██████████| 10000/10000 [00:37<00:00, 269.07it/s]\n",
      "100%|██████████| 12089/12089 [01:24<00:00, 143.14it/s]\n"
     ]
    },
    {
     "name": "stdout",
     "output_type": "stream",
     "text": [
      "2 3 tensor(0.0287) tensor(0.0108) tensor(0.0044)\n"
     ]
    },
    {
     "name": "stderr",
     "output_type": "stream",
     "text": [
      "100%|██████████| 10000/10000 [01:06<00:00, 149.72it/s]\n",
      "100%|██████████| 10000/10000 [00:37<00:00, 267.65it/s]\n",
      "100%|██████████| 11800/11800 [01:22<00:00, 142.98it/s]\n"
     ]
    },
    {
     "name": "stdout",
     "output_type": "stream",
     "text": [
      "2 4 tensor(0.0290) tensor(0.0109) tensor(0.0045)\n"
     ]
    },
    {
     "name": "stderr",
     "output_type": "stream",
     "text": [
      "100%|██████████| 10000/10000 [01:06<00:00, 150.12it/s]\n",
      "100%|██████████| 10000/10000 [00:37<00:00, 270.19it/s]\n",
      "100%|██████████| 11379/11379 [01:20<00:00, 142.21it/s]\n"
     ]
    },
    {
     "name": "stdout",
     "output_type": "stream",
     "text": [
      "2 5 tensor(0.0289) tensor(0.0109) tensor(0.0045)\n"
     ]
    },
    {
     "name": "stderr",
     "output_type": "stream",
     "text": [
      "100%|██████████| 10000/10000 [01:06<00:00, 151.27it/s]\n",
      "100%|██████████| 10000/10000 [00:37<00:00, 269.85it/s]\n",
      "100%|██████████| 11876/11876 [01:23<00:00, 142.39it/s]\n"
     ]
    },
    {
     "name": "stdout",
     "output_type": "stream",
     "text": [
      "2 6 tensor(0.0388) tensor(0.0149) tensor(0.0060)\n"
     ]
    },
    {
     "name": "stderr",
     "output_type": "stream",
     "text": [
      "100%|██████████| 10000/10000 [01:06<00:00, 150.36it/s]\n",
      "100%|██████████| 10000/10000 [00:37<00:00, 268.80it/s]\n",
      "100%|██████████| 12223/12223 [01:25<00:00, 142.96it/s]\n"
     ]
    },
    {
     "name": "stdout",
     "output_type": "stream",
     "text": [
      "2 7 tensor(0.0386) tensor(0.0147) tensor(0.0060)\n"
     ]
    },
    {
     "name": "stderr",
     "output_type": "stream",
     "text": [
      "100%|██████████| 10000/10000 [01:06<00:00, 150.09it/s]\n",
      "100%|██████████| 10000/10000 [00:37<00:00, 269.03it/s]\n",
      "100%|██████████| 11809/11809 [01:22<00:00, 142.40it/s]\n"
     ]
    },
    {
     "name": "stdout",
     "output_type": "stream",
     "text": [
      "2 8 tensor(0.0393) tensor(0.0149) tensor(0.0061)\n"
     ]
    },
    {
     "name": "stderr",
     "output_type": "stream",
     "text": [
      "100%|██████████| 10000/10000 [01:06<00:00, 149.39it/s]\n",
      "100%|██████████| 10000/10000 [00:37<00:00, 267.90it/s]\n",
      "100%|██████████| 11907/11907 [01:23<00:00, 142.39it/s]\n"
     ]
    },
    {
     "name": "stdout",
     "output_type": "stream",
     "text": [
      "2 9 tensor(0.0392) tensor(0.0151) tensor(0.0061)\n"
     ]
    },
    {
     "name": "stderr",
     "output_type": "stream",
     "text": [
      "100%|██████████| 10000/10000 [01:06<00:00, 150.12it/s]\n",
      "100%|██████████| 10000/10000 [00:37<00:00, 267.98it/s]\n",
      "100%|██████████| 11973/11973 [01:23<00:00, 143.21it/s]\n"
     ]
    },
    {
     "name": "stdout",
     "output_type": "stream",
     "text": [
      "3 4 tensor(0.0392) tensor(0.0148) tensor(0.0061)\n"
     ]
    },
    {
     "name": "stderr",
     "output_type": "stream",
     "text": [
      "100%|██████████| 10000/10000 [01:06<00:00, 150.44it/s]\n",
      "100%|██████████| 10000/10000 [00:37<00:00, 268.28it/s]\n",
      "100%|██████████| 11552/11552 [01:20<00:00, 143.30it/s]\n"
     ]
    },
    {
     "name": "stdout",
     "output_type": "stream",
     "text": [
      "3 5 tensor(0.0388) tensor(0.0148) tensor(0.0060)\n"
     ]
    },
    {
     "name": "stderr",
     "output_type": "stream",
     "text": [
      "100%|██████████| 10000/10000 [01:06<00:00, 150.27it/s]\n",
      "100%|██████████| 10000/10000 [00:37<00:00, 270.26it/s]\n",
      "100%|██████████| 12049/12049 [01:24<00:00, 142.55it/s]\n"
     ]
    },
    {
     "name": "stdout",
     "output_type": "stream",
     "text": [
      "3 6 tensor(0.0386) tensor(0.0148) tensor(0.0060)\n"
     ]
    },
    {
     "name": "stderr",
     "output_type": "stream",
     "text": [
      "100%|██████████| 10000/10000 [01:07<00:00, 148.72it/s]\n",
      "100%|██████████| 10000/10000 [00:37<00:00, 266.89it/s]\n",
      "100%|██████████| 12396/12396 [01:28<00:00, 140.62it/s]\n"
     ]
    },
    {
     "name": "stdout",
     "output_type": "stream",
     "text": [
      "3 7 tensor(0.0392) tensor(0.0149) tensor(0.0061)\n"
     ]
    },
    {
     "name": "stderr",
     "output_type": "stream",
     "text": [
      "100%|██████████| 10000/10000 [01:06<00:00, 149.86it/s]\n",
      "100%|██████████| 10000/10000 [00:37<00:00, 268.80it/s]\n",
      "100%|██████████| 11982/11982 [01:23<00:00, 142.69it/s]\n"
     ]
    },
    {
     "name": "stdout",
     "output_type": "stream",
     "text": [
      "3 8 tensor(0.0384) tensor(0.0146) tensor(0.0060)\n"
     ]
    },
    {
     "name": "stderr",
     "output_type": "stream",
     "text": [
      "100%|██████████| 10000/10000 [01:06<00:00, 150.14it/s]\n",
      "100%|██████████| 10000/10000 [00:37<00:00, 264.71it/s]\n",
      "100%|██████████| 12080/12080 [01:28<00:00, 136.84it/s]\n"
     ]
    },
    {
     "name": "stdout",
     "output_type": "stream",
     "text": [
      "3 9 tensor(0.0389) tensor(0.0146) tensor(0.0060)\n"
     ]
    },
    {
     "name": "stderr",
     "output_type": "stream",
     "text": [
      "100%|██████████| 10000/10000 [01:09<00:00, 143.61it/s]\n",
      "100%|██████████| 10000/10000 [00:38<00:00, 257.70it/s]\n",
      "100%|██████████| 11263/11263 [01:22<00:00, 136.69it/s]\n"
     ]
    },
    {
     "name": "stdout",
     "output_type": "stream",
     "text": [
      "4 5 tensor(0.0284) tensor(0.0108) tensor(0.0044)\n"
     ]
    },
    {
     "name": "stderr",
     "output_type": "stream",
     "text": [
      "100%|██████████| 10000/10000 [01:09<00:00, 143.56it/s]\n",
      "100%|██████████| 10000/10000 [00:38<00:00, 258.52it/s]\n",
      "100%|██████████| 11760/11760 [01:26<00:00, 136.60it/s]\n"
     ]
    },
    {
     "name": "stdout",
     "output_type": "stream",
     "text": [
      "4 6 tensor(0.0283) tensor(0.0107) tensor(0.0044)\n"
     ]
    },
    {
     "name": "stderr",
     "output_type": "stream",
     "text": [
      "100%|██████████| 10000/10000 [01:09<00:00, 143.28it/s]\n",
      "100%|██████████| 10000/10000 [00:38<00:00, 259.52it/s]\n",
      "100%|██████████| 12107/12107 [01:28<00:00, 136.74it/s]\n"
     ]
    },
    {
     "name": "stdout",
     "output_type": "stream",
     "text": [
      "4 7 tensor(0.0285) tensor(0.0108) tensor(0.0044)\n"
     ]
    },
    {
     "name": "stderr",
     "output_type": "stream",
     "text": [
      "100%|██████████| 10000/10000 [01:09<00:00, 143.22it/s]\n",
      "100%|██████████| 10000/10000 [00:38<00:00, 259.06it/s]\n",
      "100%|██████████| 11693/11693 [01:25<00:00, 136.81it/s]\n"
     ]
    },
    {
     "name": "stdout",
     "output_type": "stream",
     "text": [
      "4 8 tensor(0.0286) tensor(0.0110) tensor(0.0044)\n"
     ]
    },
    {
     "name": "stderr",
     "output_type": "stream",
     "text": [
      "100%|██████████| 10000/10000 [01:09<00:00, 143.54it/s]\n",
      "100%|██████████| 10000/10000 [00:38<00:00, 258.46it/s]\n",
      "100%|██████████| 11791/11791 [01:25<00:00, 138.67it/s]\n"
     ]
    },
    {
     "name": "stdout",
     "output_type": "stream",
     "text": [
      "4 9 tensor(0.0390) tensor(0.0148) tensor(0.0061)\n"
     ]
    },
    {
     "name": "stderr",
     "output_type": "stream",
     "text": [
      "100%|██████████| 10000/10000 [01:06<00:00, 149.73it/s]\n",
      "100%|██████████| 10000/10000 [00:37<00:00, 267.76it/s]\n",
      "100%|██████████| 11339/11339 [01:20<00:00, 141.13it/s]\n"
     ]
    },
    {
     "name": "stdout",
     "output_type": "stream",
     "text": [
      "5 6 tensor(0.0395) tensor(0.0149) tensor(0.0061)\n"
     ]
    },
    {
     "name": "stderr",
     "output_type": "stream",
     "text": [
      "100%|██████████| 10000/10000 [01:08<00:00, 144.94it/s]\n",
      "100%|██████████| 10000/10000 [00:39<00:00, 255.66it/s]\n",
      "100%|██████████| 11686/11686 [01:24<00:00, 137.95it/s]\n"
     ]
    },
    {
     "name": "stdout",
     "output_type": "stream",
     "text": [
      "5 7 tensor(0.0400) tensor(0.0152) tensor(0.0062)\n"
     ]
    },
    {
     "name": "stderr",
     "output_type": "stream",
     "text": [
      "100%|██████████| 10000/10000 [01:06<00:00, 149.93it/s]\n",
      "100%|██████████| 10000/10000 [00:36<00:00, 270.95it/s]\n",
      "100%|██████████| 11272/11272 [01:19<00:00, 142.55it/s]\n"
     ]
    },
    {
     "name": "stdout",
     "output_type": "stream",
     "text": [
      "5 8 tensor(0.0395) tensor(0.0151) tensor(0.0061)\n"
     ]
    },
    {
     "name": "stderr",
     "output_type": "stream",
     "text": [
      "100%|██████████| 10000/10000 [01:03<00:00, 156.68it/s]\n",
      "100%|██████████| 10000/10000 [00:35<00:00, 278.12it/s]\n",
      "100%|██████████| 11370/11370 [01:28<00:00, 128.34it/s]\n"
     ]
    },
    {
     "name": "stdout",
     "output_type": "stream",
     "text": [
      "5 9 tensor(0.0396) tensor(0.0151) tensor(0.0062)\n"
     ]
    },
    {
     "name": "stderr",
     "output_type": "stream",
     "text": [
      "100%|██████████| 10000/10000 [01:13<00:00, 135.61it/s]\n",
      "100%|██████████| 10000/10000 [00:39<00:00, 253.17it/s]\n",
      "100%|██████████| 12183/12183 [01:32<00:00, 131.52it/s]\n"
     ]
    },
    {
     "name": "stdout",
     "output_type": "stream",
     "text": [
      "6 7 tensor(0.0286) tensor(0.0109) tensor(0.0045)\n"
     ]
    },
    {
     "name": "stderr",
     "output_type": "stream",
     "text": [
      "100%|██████████| 10000/10000 [01:09<00:00, 144.52it/s]\n",
      "100%|██████████| 10000/10000 [00:37<00:00, 269.64it/s]\n",
      "100%|██████████| 11769/11769 [01:26<00:00, 135.35it/s]\n"
     ]
    },
    {
     "name": "stdout",
     "output_type": "stream",
     "text": [
      "6 8 tensor(0.0285) tensor(0.0109) tensor(0.0044)\n"
     ]
    },
    {
     "name": "stderr",
     "output_type": "stream",
     "text": [
      "100%|██████████| 10000/10000 [01:08<00:00, 145.22it/s]\n",
      "100%|██████████| 10000/10000 [00:37<00:00, 263.50it/s]\n",
      "100%|██████████| 11867/11867 [01:19<00:00, 148.68it/s]\n"
     ]
    },
    {
     "name": "stdout",
     "output_type": "stream",
     "text": [
      "6 9 tensor(0.0392) tensor(0.0149) tensor(0.0061)\n"
     ]
    },
    {
     "name": "stderr",
     "output_type": "stream",
     "text": [
      "100%|██████████| 10000/10000 [01:11<00:00, 140.68it/s]\n",
      "100%|██████████| 10000/10000 [00:34<00:00, 288.68it/s]\n",
      "100%|██████████| 12116/12116 [01:18<00:00, 154.56it/s]\n"
     ]
    },
    {
     "name": "stdout",
     "output_type": "stream",
     "text": [
      "7 8 tensor(0.0312) tensor(0.0120) tensor(0.0048)\n"
     ]
    },
    {
     "name": "stderr",
     "output_type": "stream",
     "text": [
      "100%|██████████| 10000/10000 [01:01<00:00, 162.00it/s]\n",
      "100%|██████████| 10000/10000 [00:34<00:00, 290.93it/s]\n",
      "100%|██████████| 12214/12214 [01:18<00:00, 154.64it/s]\n"
     ]
    },
    {
     "name": "stdout",
     "output_type": "stream",
     "text": [
      "7 9 tensor(0.0286) tensor(0.0107) tensor(0.0044)\n"
     ]
    },
    {
     "name": "stderr",
     "output_type": "stream",
     "text": [
      "100%|██████████| 10000/10000 [01:01<00:00, 161.33it/s]\n",
      "100%|██████████| 10000/10000 [00:34<00:00, 291.65it/s]\n",
      "100%|██████████| 11800/11800 [01:20<00:00, 147.42it/s]\n"
     ]
    },
    {
     "name": "stdout",
     "output_type": "stream",
     "text": [
      "8 9 tensor(0.0394) tensor(0.0151) tensor(0.0061)\n"
     ]
    }
   ],
   "source": [
    "all_train_robustness = []\n",
    "i = 0\n",
    "for c1 in range(10):\n",
    "    for c2 in range(c1 + 1, 10):\n",
    "        ep1s_train, ep2s_train, ep3s_train = overall_robustness(model, c1, c2, X_train[(y_train == c1) | (y_train == c2)])\n",
    "        print(c1, c2, ep1s_train.mean(), ep2s_train.mean(), ep3s_train.mean())\n",
    "        all_train_robustness.append((ep1s_train, ep2s_train, ep3s_train))\n",
    "        i += 1\n"
   ]
  },
  {
   "cell_type": "code",
   "execution_count": 13,
   "metadata": {},
   "outputs": [
    {
     "name": "stderr",
     "output_type": "stream",
     "text": [
      "100%|██████████| 10000/10000 [01:11<00:00, 140.33it/s]\n",
      "100%|██████████| 10000/10000 [00:38<00:00, 259.21it/s]\n",
      "100%|██████████| 2115/2115 [00:15<00:00, 139.79it/s]\n"
     ]
    },
    {
     "name": "stdout",
     "output_type": "stream",
     "text": [
      "0 1 tensor(0.0966) tensor(0.0386) tensor(0.0158)\n"
     ]
    },
    {
     "name": "stderr",
     "output_type": "stream",
     "text": [
      "100%|██████████| 10000/10000 [01:11<00:00, 140.22it/s]\n",
      "100%|██████████| 10000/10000 [00:41<00:00, 238.78it/s]\n",
      "100%|██████████| 2012/2012 [00:16<00:00, 125.69it/s]\n"
     ]
    },
    {
     "name": "stdout",
     "output_type": "stream",
     "text": [
      "0 2 tensor(0.0285) tensor(0.0110) tensor(0.0044)\n"
     ]
    },
    {
     "name": "stderr",
     "output_type": "stream",
     "text": [
      "100%|██████████| 10000/10000 [01:14<00:00, 133.60it/s]\n",
      "100%|██████████| 10000/10000 [00:39<00:00, 252.74it/s]\n",
      "100%|██████████| 1990/1990 [00:15<00:00, 132.63it/s]\n"
     ]
    },
    {
     "name": "stdout",
     "output_type": "stream",
     "text": [
      "0 3 tensor(0.0282) tensor(0.0106) tensor(0.0044)\n"
     ]
    },
    {
     "name": "stderr",
     "output_type": "stream",
     "text": [
      "100%|██████████| 10000/10000 [01:11<00:00, 140.71it/s]\n",
      "100%|██████████| 10000/10000 [00:39<00:00, 254.28it/s]\n",
      "100%|██████████| 1962/1962 [00:14<00:00, 132.79it/s]\n"
     ]
    },
    {
     "name": "stdout",
     "output_type": "stream",
     "text": [
      "0 4 tensor(0.0289) tensor(0.0109) tensor(0.0045)\n"
     ]
    },
    {
     "name": "stderr",
     "output_type": "stream",
     "text": [
      "100%|██████████| 10000/10000 [01:11<00:00, 140.42it/s]\n",
      "100%|██████████| 10000/10000 [00:39<00:00, 254.23it/s]\n",
      "100%|██████████| 1872/1872 [00:14<00:00, 131.96it/s]\n"
     ]
    },
    {
     "name": "stdout",
     "output_type": "stream",
     "text": [
      "0 5 tensor(0.0288) tensor(0.0109) tensor(0.0045)\n"
     ]
    },
    {
     "name": "stderr",
     "output_type": "stream",
     "text": [
      "100%|██████████| 10000/10000 [01:11<00:00, 140.48it/s]\n",
      "100%|██████████| 10000/10000 [00:40<00:00, 248.14it/s]\n",
      "100%|██████████| 1938/1938 [00:14<00:00, 133.22it/s]\n"
     ]
    },
    {
     "name": "stdout",
     "output_type": "stream",
     "text": [
      "0 6 tensor(0.0291) tensor(0.0111) tensor(0.0045)\n"
     ]
    },
    {
     "name": "stderr",
     "output_type": "stream",
     "text": [
      "100%|██████████| 10000/10000 [01:11<00:00, 139.21it/s]\n",
      "100%|██████████| 10000/10000 [00:39<00:00, 253.92it/s]\n",
      "100%|██████████| 2008/2008 [00:14<00:00, 134.87it/s]\n"
     ]
    },
    {
     "name": "stdout",
     "output_type": "stream",
     "text": [
      "0 7 tensor(0.0292) tensor(0.0111) tensor(0.0045)\n"
     ]
    },
    {
     "name": "stderr",
     "output_type": "stream",
     "text": [
      "100%|██████████| 10000/10000 [01:11<00:00, 139.25it/s]\n",
      "100%|██████████| 10000/10000 [00:39<00:00, 253.95it/s]\n",
      "100%|██████████| 1954/1954 [00:14<00:00, 134.17it/s]\n"
     ]
    },
    {
     "name": "stdout",
     "output_type": "stream",
     "text": [
      "0 8 tensor(0.0287) tensor(0.0109) tensor(0.0045)\n"
     ]
    },
    {
     "name": "stderr",
     "output_type": "stream",
     "text": [
      "100%|██████████| 10000/10000 [01:10<00:00, 140.93it/s]\n",
      "100%|██████████| 10000/10000 [00:39<00:00, 254.72it/s]\n",
      "100%|██████████| 1989/1989 [00:14<00:00, 134.08it/s]\n"
     ]
    },
    {
     "name": "stdout",
     "output_type": "stream",
     "text": [
      "0 9 tensor(0.0282) tensor(0.0107) tensor(0.0044)\n"
     ]
    },
    {
     "name": "stderr",
     "output_type": "stream",
     "text": [
      "100%|██████████| 10000/10000 [01:10<00:00, 141.00it/s]\n",
      "100%|██████████| 10000/10000 [00:39<00:00, 251.39it/s]\n",
      "100%|██████████| 2167/2167 [00:16<00:00, 133.73it/s]\n"
     ]
    },
    {
     "name": "stdout",
     "output_type": "stream",
     "text": [
      "1 2 tensor(0.0280) tensor(0.0107) tensor(0.0043)\n"
     ]
    },
    {
     "name": "stderr",
     "output_type": "stream",
     "text": [
      "100%|██████████| 10000/10000 [01:12<00:00, 138.20it/s]\n",
      "100%|██████████| 10000/10000 [00:39<00:00, 255.12it/s]\n",
      "100%|██████████| 2145/2145 [00:15<00:00, 135.42it/s]\n"
     ]
    },
    {
     "name": "stdout",
     "output_type": "stream",
     "text": [
      "1 3 tensor(0.0958) tensor(0.0379) tensor(0.0157)\n"
     ]
    },
    {
     "name": "stderr",
     "output_type": "stream",
     "text": [
      "100%|██████████| 10000/10000 [01:10<00:00, 141.05it/s]\n",
      "100%|██████████| 10000/10000 [00:39<00:00, 255.00it/s]\n",
      "100%|██████████| 2117/2117 [00:15<00:00, 136.11it/s]\n"
     ]
    },
    {
     "name": "stdout",
     "output_type": "stream",
     "text": [
      "1 4 tensor(0.0959) tensor(0.0382) tensor(0.0157)\n"
     ]
    },
    {
     "name": "stderr",
     "output_type": "stream",
     "text": [
      "100%|██████████| 10000/10000 [01:10<00:00, 141.43it/s]\n",
      "100%|██████████| 10000/10000 [00:39<00:00, 254.71it/s]\n",
      "100%|██████████| 2027/2027 [00:14<00:00, 136.38it/s]\n"
     ]
    },
    {
     "name": "stdout",
     "output_type": "stream",
     "text": [
      "1 5 tensor(0.1001) tensor(0.0400) tensor(0.0164)\n"
     ]
    },
    {
     "name": "stderr",
     "output_type": "stream",
     "text": [
      "100%|██████████| 10000/10000 [01:11<00:00, 140.08it/s]\n",
      "100%|██████████| 10000/10000 [00:39<00:00, 253.07it/s]\n",
      "100%|██████████| 2093/2093 [00:15<00:00, 133.76it/s]\n"
     ]
    },
    {
     "name": "stdout",
     "output_type": "stream",
     "text": [
      "1 6 tensor(0.0980) tensor(0.0393) tensor(0.0160)\n"
     ]
    },
    {
     "name": "stderr",
     "output_type": "stream",
     "text": [
      "100%|██████████| 10000/10000 [01:10<00:00, 141.47it/s]\n",
      "100%|██████████| 10000/10000 [00:39<00:00, 254.68it/s]\n",
      "100%|██████████| 2163/2163 [00:15<00:00, 135.54it/s]\n"
     ]
    },
    {
     "name": "stdout",
     "output_type": "stream",
     "text": [
      "1 7 tensor(0.0955) tensor(0.0382) tensor(0.0156)\n"
     ]
    },
    {
     "name": "stderr",
     "output_type": "stream",
     "text": [
      "100%|██████████| 10000/10000 [01:12<00:00, 138.66it/s]\n",
      "100%|██████████| 10000/10000 [00:42<00:00, 233.03it/s]\n",
      "100%|██████████| 2109/2109 [00:19<00:00, 110.10it/s]\n"
     ]
    },
    {
     "name": "stdout",
     "output_type": "stream",
     "text": [
      "1 8 tensor(0.0960) tensor(0.0387) tensor(0.0157)\n"
     ]
    },
    {
     "name": "stderr",
     "output_type": "stream",
     "text": [
      "100%|██████████| 10000/10000 [01:15<00:00, 132.56it/s]\n",
      "100%|██████████| 10000/10000 [00:41<00:00, 242.89it/s]\n",
      "100%|██████████| 2144/2144 [00:16<00:00, 127.76it/s]\n"
     ]
    },
    {
     "name": "stdout",
     "output_type": "stream",
     "text": [
      "1 9 tensor(0.0961) tensor(0.0380) tensor(0.0157)\n"
     ]
    },
    {
     "name": "stderr",
     "output_type": "stream",
     "text": [
      "100%|██████████| 10000/10000 [01:15<00:00, 132.74it/s]\n",
      "100%|██████████| 10000/10000 [00:41<00:00, 242.23it/s]\n",
      "100%|██████████| 2042/2042 [00:16<00:00, 127.24it/s]\n"
     ]
    },
    {
     "name": "stdout",
     "output_type": "stream",
     "text": [
      "2 3 tensor(0.0280) tensor(0.0106) tensor(0.0043)\n"
     ]
    },
    {
     "name": "stderr",
     "output_type": "stream",
     "text": [
      "100%|██████████| 10000/10000 [01:14<00:00, 135.00it/s]\n",
      "100%|██████████| 10000/10000 [00:39<00:00, 250.92it/s]\n",
      "100%|██████████| 2014/2014 [00:16<00:00, 119.14it/s]\n"
     ]
    },
    {
     "name": "stdout",
     "output_type": "stream",
     "text": [
      "2 4 tensor(0.0277) tensor(0.0105) tensor(0.0043)\n"
     ]
    },
    {
     "name": "stderr",
     "output_type": "stream",
     "text": [
      "100%|██████████| 10000/10000 [01:13<00:00, 135.90it/s]\n",
      "100%|██████████| 10000/10000 [00:41<00:00, 240.21it/s]\n",
      "100%|██████████| 1924/1924 [00:15<00:00, 127.58it/s]\n"
     ]
    },
    {
     "name": "stdout",
     "output_type": "stream",
     "text": [
      "2 5 tensor(0.0289) tensor(0.0111) tensor(0.0045)\n"
     ]
    },
    {
     "name": "stderr",
     "output_type": "stream",
     "text": [
      "100%|██████████| 10000/10000 [01:11<00:00, 140.22it/s]\n",
      "100%|██████████| 10000/10000 [00:39<00:00, 256.28it/s]\n",
      "100%|██████████| 1990/1990 [00:14<00:00, 135.17it/s]\n"
     ]
    },
    {
     "name": "stdout",
     "output_type": "stream",
     "text": [
      "2 6 tensor(0.0281) tensor(0.0106) tensor(0.0044)\n"
     ]
    },
    {
     "name": "stderr",
     "output_type": "stream",
     "text": [
      "100%|██████████| 10000/10000 [01:10<00:00, 142.44it/s]\n",
      "100%|██████████| 10000/10000 [00:38<00:00, 257.99it/s]\n",
      "100%|██████████| 2060/2060 [00:15<00:00, 136.86it/s]\n"
     ]
    },
    {
     "name": "stdout",
     "output_type": "stream",
     "text": [
      "2 7 tensor(0.0287) tensor(0.0110) tensor(0.0045)\n"
     ]
    },
    {
     "name": "stderr",
     "output_type": "stream",
     "text": [
      "100%|██████████| 10000/10000 [01:10<00:00, 142.61it/s]\n",
      "100%|██████████| 10000/10000 [00:38<00:00, 256.66it/s]\n",
      "100%|██████████| 2006/2006 [00:14<00:00, 136.88it/s]\n"
     ]
    },
    {
     "name": "stdout",
     "output_type": "stream",
     "text": [
      "2 8 tensor(0.0284) tensor(0.0107) tensor(0.0044)\n"
     ]
    },
    {
     "name": "stderr",
     "output_type": "stream",
     "text": [
      "100%|██████████| 10000/10000 [01:10<00:00, 142.12it/s]\n",
      "100%|██████████| 10000/10000 [00:38<00:00, 256.97it/s]\n",
      "100%|██████████| 2041/2041 [00:14<00:00, 136.78it/s]\n"
     ]
    },
    {
     "name": "stdout",
     "output_type": "stream",
     "text": [
      "2 9 tensor(0.0282) tensor(0.0107) tensor(0.0044)\n"
     ]
    },
    {
     "name": "stderr",
     "output_type": "stream",
     "text": [
      "100%|██████████| 10000/10000 [01:10<00:00, 142.24it/s]\n",
      "100%|██████████| 10000/10000 [00:42<00:00, 234.90it/s]\n",
      "100%|██████████| 1992/1992 [00:15<00:00, 127.65it/s]\n"
     ]
    },
    {
     "name": "stdout",
     "output_type": "stream",
     "text": [
      "3 4 tensor(0.0287) tensor(0.0109) tensor(0.0045)\n"
     ]
    },
    {
     "name": "stderr",
     "output_type": "stream",
     "text": [
      "100%|██████████| 10000/10000 [01:12<00:00, 137.79it/s]\n",
      "100%|██████████| 10000/10000 [00:39<00:00, 250.80it/s]\n",
      "100%|██████████| 1902/1902 [00:14<00:00, 131.49it/s]\n"
     ]
    },
    {
     "name": "stdout",
     "output_type": "stream",
     "text": [
      "3 5 tensor(0.0294) tensor(0.0111) tensor(0.0046)\n"
     ]
    },
    {
     "name": "stderr",
     "output_type": "stream",
     "text": [
      "100%|██████████| 10000/10000 [01:14<00:00, 134.60it/s]\n",
      "100%|██████████| 10000/10000 [00:41<00:00, 243.41it/s]\n",
      "100%|██████████| 1968/1968 [00:15<00:00, 130.87it/s]\n"
     ]
    },
    {
     "name": "stdout",
     "output_type": "stream",
     "text": [
      "3 6 tensor(0.0282) tensor(0.0108) tensor(0.0044)\n"
     ]
    },
    {
     "name": "stderr",
     "output_type": "stream",
     "text": [
      "100%|██████████| 10000/10000 [01:13<00:00, 136.49it/s]\n",
      "100%|██████████| 10000/10000 [00:42<00:00, 235.69it/s]\n",
      "100%|██████████| 2038/2038 [00:15<00:00, 129.95it/s]\n"
     ]
    },
    {
     "name": "stdout",
     "output_type": "stream",
     "text": [
      "3 7 tensor(0.0289) tensor(0.0111) tensor(0.0045)\n"
     ]
    },
    {
     "name": "stderr",
     "output_type": "stream",
     "text": [
      "100%|██████████| 10000/10000 [01:16<00:00, 129.96it/s]\n",
      "100%|██████████| 10000/10000 [00:41<00:00, 239.48it/s]\n",
      "100%|██████████| 1984/1984 [00:15<00:00, 126.02it/s]\n"
     ]
    },
    {
     "name": "stdout",
     "output_type": "stream",
     "text": [
      "3 8 tensor(0.0282) tensor(0.0108) tensor(0.0044)\n"
     ]
    },
    {
     "name": "stderr",
     "output_type": "stream",
     "text": [
      "100%|██████████| 10000/10000 [01:15<00:00, 132.69it/s]\n",
      "100%|██████████| 10000/10000 [00:41<00:00, 239.36it/s]\n",
      "100%|██████████| 2019/2019 [00:15<00:00, 126.24it/s]\n"
     ]
    },
    {
     "name": "stdout",
     "output_type": "stream",
     "text": [
      "3 9 tensor(0.0284) tensor(0.0107) tensor(0.0044)\n"
     ]
    },
    {
     "name": "stderr",
     "output_type": "stream",
     "text": [
      "100%|██████████| 10000/10000 [01:13<00:00, 136.85it/s]\n",
      "100%|██████████| 10000/10000 [00:41<00:00, 243.75it/s]\n",
      "100%|██████████| 1874/1874 [00:14<00:00, 132.00it/s]\n"
     ]
    },
    {
     "name": "stdout",
     "output_type": "stream",
     "text": [
      "4 5 tensor(0.0278) tensor(0.0107) tensor(0.0043)\n"
     ]
    },
    {
     "name": "stderr",
     "output_type": "stream",
     "text": [
      "100%|██████████| 10000/10000 [01:12<00:00, 138.07it/s]\n",
      "100%|██████████| 10000/10000 [00:40<00:00, 246.53it/s]\n",
      "100%|██████████| 1940/1940 [00:14<00:00, 129.74it/s]\n"
     ]
    },
    {
     "name": "stdout",
     "output_type": "stream",
     "text": [
      "4 6 tensor(0.0281) tensor(0.0108) tensor(0.0044)\n"
     ]
    },
    {
     "name": "stderr",
     "output_type": "stream",
     "text": [
      "100%|██████████| 10000/10000 [01:14<00:00, 135.07it/s]\n",
      "100%|██████████| 10000/10000 [00:41<00:00, 241.56it/s]\n",
      "100%|██████████| 2010/2010 [00:15<00:00, 127.78it/s]\n"
     ]
    },
    {
     "name": "stdout",
     "output_type": "stream",
     "text": [
      "4 7 tensor(0.0286) tensor(0.0109) tensor(0.0044)\n"
     ]
    },
    {
     "name": "stderr",
     "output_type": "stream",
     "text": [
      "100%|██████████| 10000/10000 [01:14<00:00, 133.71it/s]\n",
      "100%|██████████| 10000/10000 [00:40<00:00, 245.73it/s]\n",
      "100%|██████████| 1956/1956 [00:14<00:00, 131.13it/s]\n"
     ]
    },
    {
     "name": "stdout",
     "output_type": "stream",
     "text": [
      "4 8 tensor(0.0278) tensor(0.0105) tensor(0.0043)\n"
     ]
    },
    {
     "name": "stderr",
     "output_type": "stream",
     "text": [
      "100%|██████████| 10000/10000 [01:11<00:00, 140.35it/s]\n",
      "100%|██████████| 10000/10000 [00:37<00:00, 264.03it/s]\n",
      "100%|██████████| 1991/1991 [00:13<00:00, 144.68it/s]\n"
     ]
    },
    {
     "name": "stdout",
     "output_type": "stream",
     "text": [
      "4 9 tensor(0.0287) tensor(0.0107) tensor(0.0045)\n"
     ]
    },
    {
     "name": "stderr",
     "output_type": "stream",
     "text": [
      "100%|██████████| 10000/10000 [01:05<00:00, 152.42it/s]\n",
      "100%|██████████| 10000/10000 [00:36<00:00, 272.75it/s]\n",
      "100%|██████████| 1850/1850 [00:12<00:00, 144.38it/s]\n"
     ]
    },
    {
     "name": "stdout",
     "output_type": "stream",
     "text": [
      "5 6 tensor(0.0278) tensor(0.0106) tensor(0.0043)\n"
     ]
    },
    {
     "name": "stderr",
     "output_type": "stream",
     "text": [
      "100%|██████████| 10000/10000 [01:08<00:00, 146.69it/s]\n",
      "100%|██████████| 10000/10000 [00:36<00:00, 271.07it/s]\n",
      "100%|██████████| 1920/1920 [00:12<00:00, 150.74it/s]\n"
     ]
    },
    {
     "name": "stdout",
     "output_type": "stream",
     "text": [
      "5 7 tensor(0.0281) tensor(0.0106) tensor(0.0044)\n"
     ]
    },
    {
     "name": "stderr",
     "output_type": "stream",
     "text": [
      "100%|██████████| 10000/10000 [01:06<00:00, 151.27it/s]\n",
      "100%|██████████| 10000/10000 [00:37<00:00, 266.22it/s]\n",
      "100%|██████████| 1866/1866 [00:13<00:00, 141.12it/s]\n"
     ]
    },
    {
     "name": "stdout",
     "output_type": "stream",
     "text": [
      "5 8 tensor(0.0277) tensor(0.0105) tensor(0.0043)\n"
     ]
    },
    {
     "name": "stderr",
     "output_type": "stream",
     "text": [
      "100%|██████████| 10000/10000 [01:07<00:00, 148.01it/s]\n",
      "100%|██████████| 10000/10000 [00:35<00:00, 277.90it/s]\n",
      "100%|██████████| 1901/1901 [00:13<00:00, 144.88it/s]\n"
     ]
    },
    {
     "name": "stdout",
     "output_type": "stream",
     "text": [
      "5 9 tensor(0.0280) tensor(0.0106) tensor(0.0044)\n"
     ]
    },
    {
     "name": "stderr",
     "output_type": "stream",
     "text": [
      "100%|██████████| 10000/10000 [01:04<00:00, 154.63it/s]\n",
      "100%|██████████| 10000/10000 [00:36<00:00, 270.32it/s]\n",
      "100%|██████████| 1986/1986 [00:12<00:00, 153.10it/s]\n"
     ]
    },
    {
     "name": "stdout",
     "output_type": "stream",
     "text": [
      "6 7 tensor(0.0285) tensor(0.0108) tensor(0.0044)\n"
     ]
    },
    {
     "name": "stderr",
     "output_type": "stream",
     "text": [
      "100%|██████████| 10000/10000 [01:02<00:00, 159.85it/s]\n",
      "100%|██████████| 10000/10000 [00:35<00:00, 281.97it/s]\n",
      "100%|██████████| 1932/1932 [00:13<00:00, 140.17it/s]\n"
     ]
    },
    {
     "name": "stdout",
     "output_type": "stream",
     "text": [
      "6 8 tensor(0.0285) tensor(0.0107) tensor(0.0044)\n"
     ]
    },
    {
     "name": "stderr",
     "output_type": "stream",
     "text": [
      "100%|██████████| 10000/10000 [01:06<00:00, 150.89it/s]\n",
      "100%|██████████| 10000/10000 [00:36<00:00, 273.78it/s]\n",
      "100%|██████████| 1967/1967 [00:13<00:00, 146.31it/s]\n"
     ]
    },
    {
     "name": "stdout",
     "output_type": "stream",
     "text": [
      "6 9 tensor(0.0283) tensor(0.0107) tensor(0.0044)\n"
     ]
    },
    {
     "name": "stderr",
     "output_type": "stream",
     "text": [
      "100%|██████████| 10000/10000 [01:07<00:00, 147.45it/s]\n",
      "100%|██████████| 10000/10000 [00:37<00:00, 266.07it/s]\n",
      "100%|██████████| 2002/2002 [00:14<00:00, 142.52it/s]\n"
     ]
    },
    {
     "name": "stdout",
     "output_type": "stream",
     "text": [
      "7 8 tensor(0.0283) tensor(0.0107) tensor(0.0044)\n"
     ]
    },
    {
     "name": "stderr",
     "output_type": "stream",
     "text": [
      "100%|██████████| 10000/10000 [01:08<00:00, 145.79it/s]\n",
      "100%|██████████| 10000/10000 [00:38<00:00, 257.50it/s]\n",
      "100%|██████████| 2037/2037 [00:15<00:00, 133.81it/s]\n"
     ]
    },
    {
     "name": "stdout",
     "output_type": "stream",
     "text": [
      "7 9 tensor(0.0293) tensor(0.0110) tensor(0.0045)\n"
     ]
    },
    {
     "name": "stderr",
     "output_type": "stream",
     "text": [
      "100%|██████████| 10000/10000 [01:09<00:00, 143.00it/s]\n",
      "100%|██████████| 10000/10000 [00:37<00:00, 266.45it/s]\n",
      "100%|██████████| 1983/1983 [00:13<00:00, 147.98it/s]"
     ]
    },
    {
     "name": "stdout",
     "output_type": "stream",
     "text": [
      "8 9 tensor(0.0284) tensor(0.0109) tensor(0.0044)\n"
     ]
    },
    {
     "name": "stderr",
     "output_type": "stream",
     "text": [
      "\n"
     ]
    }
   ],
   "source": [
    "all_test_robustness = []\n",
    "i = 0\n",
    "for c1 in range(10):\n",
    "    for c2 in range(c1 + 1, 10):\n",
    "        ep1s_test, ep2s_test, ep3s_test = overall_robustness(model, c1, c2, X_test[(y_test == c1) | (y_test == c2)])\n",
    "        print(c1, c2, ep1s_test.mean(), ep2s_test.mean(), ep3s_test.mean())\n",
    "        all_test_robustness.append((ep1s_test, ep2s_test, ep3s_test))\n",
    "        i += 1\n"
   ]
  },
  {
   "cell_type": "code",
   "execution_count": 14,
   "metadata": {},
   "outputs": [],
   "source": [
    "with open('./all_train_robustness.pickle', 'bw') as f:\n",
    "    pickle.dump(all_train_robustness, f)\n",
    "with open('./all_test_robustness.pickle', 'bw') as f:\n",
    "    pickle.dump(all_test_robustness, f)"
   ]
  },
  {
   "cell_type": "code",
   "execution_count": 15,
   "metadata": {},
   "outputs": [],
   "source": [
    "with open('./MNIST_multimodel.pickle', 'bw') as f:\n",
    "    pickle.dump(model, f)"
   ]
  },
  {
   "cell_type": "code",
   "execution_count": 16,
   "metadata": {},
   "outputs": [],
   "source": [
    "# fig, axes = plt.subplots(1, 3, dpi=300, figsize=(20, 5))\n",
    "# axes[0].set_title('MNIST train set Method 1')\n",
    "# axes[0].hist(ep1s_train, bins=30)\n",
    "# axes[1].set_title('MNIST train set Method 2')\n",
    "# axes[1].hist(ep2s_train, bins=30)\n",
    "# axes[2].set_title('MNIST train set Method 3')\n",
    "# axes[2].hist(ep3s_train, bins=30)\n",
    "# fig.show()"
   ]
  },
  {
   "cell_type": "code",
   "execution_count": 17,
   "metadata": {},
   "outputs": [],
   "source": [
    "# fig, axes = plt.subplots(1, 3, dpi=300, figsize=(20, 5))\n",
    "# axes[0].set_title('MNIST test set Method 1')\n",
    "# axes[0].hist(ep1s_test, bins=30)\n",
    "# axes[1].set_title('MNIST test set Method 2')\n",
    "# axes[1].hist(ep2s_test, bins=30)\n",
    "# axes[2].set_title('MNIST test set Method 3')\n",
    "# axes[2].hist(ep3s_test, bins=30)\n",
    "# fig.show()"
   ]
  },
  {
   "cell_type": "code",
   "execution_count": 18,
   "metadata": {},
   "outputs": [],
   "source": [
    "ep1_train = min([ep1s_train.mean() for ep1s_train, _, _ in all_train_robustness])\n",
    "ep2_train = min([ep2s_train.mean() for _, ep2s_train, _ in all_train_robustness])\n",
    "ep3_train = min([ep3s_train.mean() for _, _, ep3s_train in all_train_robustness])\n",
    "\n",
    "ep1_test = min([ep1s_test.mean() for ep1s_test, _, _ in all_test_robustness])\n",
    "ep2_test = min([ep2s_test.mean() for _, ep2s_test, _ in all_test_robustness])\n",
    "ep3_test = min([ep3s_test.mean() for _, _, ep3s_test in all_test_robustness])"
   ]
  },
  {
   "cell_type": "code",
   "execution_count": 34,
   "metadata": {},
   "outputs": [
    {
     "data": {
      "text/plain": [
       "(tensor(0.0283), tensor(0.0107), tensor(0.0044))"
      ]
     },
     "execution_count": 34,
     "metadata": {},
     "output_type": "execute_result"
    }
   ],
   "source": [
    "ep1_train, ep2_train, ep3_train"
   ]
  },
  {
   "cell_type": "code",
   "execution_count": 35,
   "metadata": {},
   "outputs": [
    {
     "data": {
      "text/plain": [
       "(tensor(0.0277), tensor(0.0105), tensor(0.0043))"
      ]
     },
     "execution_count": 35,
     "metadata": {},
     "output_type": "execute_result"
    }
   ],
   "source": [
    "ep1_test, ep2_test, ep3_test"
   ]
  },
  {
   "cell_type": "code",
   "execution_count": 20,
   "metadata": {},
   "outputs": [
    {
     "name": "stdout",
     "output_type": "stream",
     "text": [
      "tensor(0.) tensor(0.5389) tensor(0.1671)\n",
      "tensor(0.0101) tensor(0.5388) tensor(0.1675)\n",
      "tensor(0.0202) tensor(0.5383) tensor(0.1669)\n",
      "tensor(0.0303) tensor(0.5388) tensor(0.1680)\n",
      "tensor(0.0404) tensor(0.5387) tensor(0.1672)\n",
      "tensor(0.0505) tensor(0.5381) tensor(0.1679)\n",
      "tensor(0.0606) tensor(0.5377) tensor(0.1680)\n",
      "tensor(0.0707) tensor(0.5383) tensor(0.1656)\n",
      "tensor(0.0808) tensor(0.5359) tensor(0.1666)\n",
      "tensor(0.0909) tensor(0.5355) tensor(0.1672)\n",
      "tensor(0.1010) tensor(0.5364) tensor(0.1663)\n",
      "tensor(0.1111) tensor(0.5351) tensor(0.1671)\n",
      "tensor(0.1212) tensor(0.5360) tensor(0.1670)\n",
      "tensor(0.1313) tensor(0.5347) tensor(0.1659)\n",
      "tensor(0.1414) tensor(0.5330) tensor(0.1655)\n",
      "tensor(0.1515) tensor(0.5331) tensor(0.1662)\n",
      "tensor(0.1616) tensor(0.5304) tensor(0.1660)\n",
      "tensor(0.1717) tensor(0.5308) tensor(0.1659)\n",
      "tensor(0.1818) tensor(0.5296) tensor(0.1648)\n",
      "tensor(0.1919) tensor(0.5287) tensor(0.1651)\n",
      "tensor(0.2020) tensor(0.5300) tensor(0.1653)\n",
      "tensor(0.2121) tensor(0.5280) tensor(0.1664)\n",
      "tensor(0.2222) tensor(0.5253) tensor(0.1664)\n",
      "tensor(0.2323) tensor(0.5253) tensor(0.1674)\n",
      "tensor(0.2424) tensor(0.5252) tensor(0.1635)\n",
      "tensor(0.2525) tensor(0.5238) tensor(0.1672)\n",
      "tensor(0.2626) tensor(0.5221) tensor(0.1648)\n",
      "tensor(0.2727) tensor(0.5204) tensor(0.1667)\n",
      "tensor(0.2828) tensor(0.5184) tensor(0.1628)\n",
      "tensor(0.2929) tensor(0.5194) tensor(0.1664)\n",
      "tensor(0.3030) tensor(0.5171) tensor(0.1624)\n",
      "tensor(0.3131) tensor(0.5152) tensor(0.1658)\n",
      "tensor(0.3232) tensor(0.5126) tensor(0.1629)\n",
      "tensor(0.3333) tensor(0.5129) tensor(0.1643)\n",
      "tensor(0.3434) tensor(0.5108) tensor(0.1651)\n",
      "tensor(0.3535) tensor(0.5077) tensor(0.1639)\n",
      "tensor(0.3636) tensor(0.5076) tensor(0.1650)\n",
      "tensor(0.3737) tensor(0.5056) tensor(0.1621)\n",
      "tensor(0.3838) tensor(0.5040) tensor(0.1644)\n",
      "tensor(0.3939) tensor(0.5032) tensor(0.1674)\n",
      "tensor(0.4040) tensor(0.4999) tensor(0.1647)\n",
      "tensor(0.4141) tensor(0.4995) tensor(0.1638)\n",
      "tensor(0.4242) tensor(0.4970) tensor(0.1637)\n",
      "tensor(0.4343) tensor(0.4949) tensor(0.1633)\n",
      "tensor(0.4444) tensor(0.4926) tensor(0.1695)\n",
      "tensor(0.4545) tensor(0.4909) tensor(0.1656)\n",
      "tensor(0.4646) tensor(0.4916) tensor(0.1644)\n",
      "tensor(0.4747) tensor(0.4861) tensor(0.1645)\n",
      "tensor(0.4848) tensor(0.4830) tensor(0.1611)\n",
      "tensor(0.4949) tensor(0.4841) tensor(0.1685)\n",
      "tensor(0.5051) tensor(0.4789) tensor(0.1653)\n",
      "tensor(0.5152) tensor(0.4780) tensor(0.1658)\n",
      "tensor(0.5253) tensor(0.4770) tensor(0.1629)\n",
      "tensor(0.5354) tensor(0.4755) tensor(0.1625)\n",
      "tensor(0.5455) tensor(0.4704) tensor(0.1630)\n",
      "tensor(0.5556) tensor(0.4692) tensor(0.1645)\n",
      "tensor(0.5657) tensor(0.4704) tensor(0.1644)\n",
      "tensor(0.5758) tensor(0.4631) tensor(0.1637)\n",
      "tensor(0.5859) tensor(0.4631) tensor(0.1633)\n",
      "tensor(0.5960) tensor(0.4618) tensor(0.1652)\n",
      "tensor(0.6061) tensor(0.4595) tensor(0.1643)\n",
      "tensor(0.6162) tensor(0.4540) tensor(0.1628)\n",
      "tensor(0.6263) tensor(0.4508) tensor(0.1647)\n",
      "tensor(0.6364) tensor(0.4496) tensor(0.1629)\n",
      "tensor(0.6465) tensor(0.4513) tensor(0.1601)\n",
      "tensor(0.6566) tensor(0.4471) tensor(0.1657)\n",
      "tensor(0.6667) tensor(0.4431) tensor(0.1663)\n",
      "tensor(0.6768) tensor(0.4466) tensor(0.1595)\n",
      "tensor(0.6869) tensor(0.4388) tensor(0.1614)\n",
      "tensor(0.6970) tensor(0.4369) tensor(0.1647)\n",
      "tensor(0.7071) tensor(0.4332) tensor(0.1620)\n",
      "tensor(0.7172) tensor(0.4254) tensor(0.1674)\n",
      "tensor(0.7273) tensor(0.4300) tensor(0.1640)\n",
      "tensor(0.7374) tensor(0.4248) tensor(0.1644)\n",
      "tensor(0.7475) tensor(0.4175) tensor(0.1603)\n",
      "tensor(0.7576) tensor(0.4199) tensor(0.1641)\n",
      "tensor(0.7677) tensor(0.4189) tensor(0.1549)\n",
      "tensor(0.7778) tensor(0.4104) tensor(0.1613)\n",
      "tensor(0.7879) tensor(0.4124) tensor(0.1664)\n",
      "tensor(0.7980) tensor(0.4060) tensor(0.1653)\n",
      "tensor(0.8081) tensor(0.4083) tensor(0.1709)\n",
      "tensor(0.8182) tensor(0.4049) tensor(0.1591)\n",
      "tensor(0.8283) tensor(0.3960) tensor(0.1623)\n",
      "tensor(0.8384) tensor(0.4020) tensor(0.1655)\n",
      "tensor(0.8485) tensor(0.3968) tensor(0.1597)\n",
      "tensor(0.8586) tensor(0.3951) tensor(0.1576)\n",
      "tensor(0.8687) tensor(0.3902) tensor(0.1669)\n",
      "tensor(0.8788) tensor(0.3900) tensor(0.1625)\n",
      "tensor(0.8889) tensor(0.3880) tensor(0.1582)\n",
      "tensor(0.8990) tensor(0.3830) tensor(0.1587)\n",
      "tensor(0.9091) tensor(0.3810) tensor(0.1624)\n",
      "tensor(0.9192) tensor(0.3795) tensor(0.1685)\n",
      "tensor(0.9293) tensor(0.3718) tensor(0.1640)\n",
      "tensor(0.9394) tensor(0.3678) tensor(0.1591)\n",
      "tensor(0.9495) tensor(0.3688) tensor(0.1590)\n",
      "tensor(0.9596) tensor(0.3618) tensor(0.1597)\n",
      "tensor(0.9697) tensor(0.3596) tensor(0.1620)\n",
      "tensor(0.9798) tensor(0.3610) tensor(0.1584)\n",
      "tensor(0.9899) tensor(0.3545) tensor(0.1606)\n",
      "tensor(1.) tensor(0.3578) tensor(0.1607)\n"
     ]
    }
   ],
   "source": [
    "train_accuracies = []\n",
    "test_accuracies = []\n",
    "noises = np.linspace(0, 1, 100)\n",
    "for noise in noises:\n",
    "    nvec = torch.empty_like(X_train[0]).normal_(0, 1)\n",
    "    nvec *= noise / nvec.norm()\n",
    "\n",
    "    preds = model.predict(X_train + nvec)\n",
    "    train_acc = (preds == y_train).sum() / len(y_train)\n",
    "\n",
    "    preds = model.predict(X_test + nvec)\n",
    "    test_acc = (preds == y_test).sum() / len(y_test)\n",
    "\n",
    "    print(nvec.norm(), train_acc, test_acc)\n",
    "\n",
    "    train_accuracies.append(train_acc)\n",
    "    test_accuracies.append(test_acc)"
   ]
  },
  {
   "cell_type": "code",
   "execution_count": 30,
   "metadata": {},
   "outputs": [
    {
     "data": {
      "image/png": "[encoded data removed]",
      "text/plain": [
       "<Figure size 1000x500 with 1 Axes>"
      ]
     },
     "metadata": {},
     "output_type": "display_data"
    }
   ],
   "source": [
    "plt.figure(figsize=(10, 5), dpi=100)\n",
    "plt.plot(noises, train_accuracies)\n",
    "plt.plot([ep1_train, ep1_train], [0, 1], label='Method 1')\n",
    "plt.plot([ep2_train, ep2_train], [0, 1], label='Method 2')\n",
    "plt.plot([ep3_train, ep3_train], [0, 1], label='Method 3')\n",
    "plt.legend()\n",
    "plt.ylim([0.3, 0.6])\n",
    "plt.title('MNIST Train set')\n",
    "plt.xlabel('noise')\n",
    "plt.ylabel('Accuracy')\n",
    "plt.show()"
   ]
  },
  {
   "cell_type": "code",
   "execution_count": 33,
   "metadata": {},
   "outputs": [
    {
     "data": {
      "image/png": "[encoded data removed]",
      "text/plain": [
       "<Figure size 1000x500 with 1 Axes>"
      ]
     },
     "metadata": {},
     "output_type": "display_data"
    }
   ],
   "source": [
    "plt.figure(figsize=(10, 5), dpi=100)\n",
    "plt.plot(noises, test_accuracies)\n",
    "plt.plot([ep1_test, ep1_test], [0, 1], label='Method 1')\n",
    "plt.plot([ep2_test, ep2_test], [0, 1], label='Method 2')\n",
    "plt.plot([ep3_test, ep3_test], [0, 1], label='Method 3')\n",
    "plt.legend()\n",
    "plt.ylim([0.16, 0.17])\n",
    "plt.title('MNIST Test set')\n",
    "plt.xlabel('noise')\n",
    "plt.ylabel('Accuracy')\n",
    "plt.show()"
   ]
  },
  {
   "cell_type": "code",
   "execution_count": null,
   "metadata": {},
   "outputs": [],
   "source": []
  }
 ],
 "metadata": {
  "kernelspec": {
   "display_name": "venv",
   "language": "python",
   "name": "python3"
  },
  "language_info": {
   "codemirror_mode": {
    "name": "ipython",
    "version": 3
   },
   "file_extension": ".py",
   "mimetype": "text/x-python",
   "name": "python",
   "nbconvert_exporter": "python",
   "pygments_lexer": "ipython3",
   "version": "3.8.10"
  },
  "orig_nbformat": 4,
  "vscode": {
   "interpreter": {
    "hash": "708b40775871a2caaf789c130c889506ee08aa7735457c8315125c2a48e055db"
   }
  }
 },
 "nbformat": 4,
 "nbformat_minor": 2
}
